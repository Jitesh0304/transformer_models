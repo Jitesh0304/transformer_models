{
 "cells": [
  {
   "cell_type": "code",
   "execution_count": 1,
   "metadata": {
    "colab": {
     "base_uri": "https://localhost:8080/"
    },
    "executionInfo": {
     "elapsed": 14536,
     "status": "ok",
     "timestamp": 1721712612252,
     "user": {
      "displayName": "Jitesh Sahu",
      "userId": "04954668216875868768"
     },
     "user_tz": -330
    },
    "id": "aMYTPQrNAWVW",
    "outputId": "94e09733-b063-432d-ca02-756a0d32a37d"
   },
   "outputs": [],
   "source": [
    "# !pip install openpyxl"
   ]
  },
  {
   "cell_type": "code",
   "execution_count": 3,
   "metadata": {
    "colab": {
     "base_uri": "https://localhost:8080/",
     "height": 375,
     "referenced_widgets": [
      "821688a32c784c238f6c0cd607725901",
      "27513d693774457aa8ae427c5723adc4",
      "d1285f657ddd4f49aef70f46526336eb",
      "375a5d7e8d0944378fd92752e024b140",
      "9caed342cd4c4d739e16f9dd31f73364",
      "2963fb13491c4b91abe29cf1f04aafc9",
      "e882130aa176474885043ff2fe65ea81",
      "2967aada57304c49ab899941e14e5a2b",
      "2d5ccaa1bc844ddfb8544243cbd91f57",
      "d3a7dc54f74b49af9c9241636cfdac98",
      "f49e28923b2e47fe82764af7a93cb534",
      "29fe7c5081dc4369b24439e8aeddd165",
      "4c23329542bd479aba6c3508dfb36325",
      "dc4dd0689ad44248bb2721167d409d86",
      "4c7bf252c729438fa9602d772ccc81e3",
      "0a6e5a6c0fc242c288ed2c46230fdeec",
      "d95179eae54a439eadcb6e4bdf22c624",
      "6ef048fd20a24933994661f57cf66241",
      "277901ad05ea4618a849ce0db080b8b3",
      "965d6d1a029c4dabae57f053e96dd663",
      "c211343d9b724b98945799545040b293",
      "4c7f956b48b640438978aa053af6a9f4",
      "c641fd91b8ef4f618dd3fb760bc9a896",
      "3527c97ea1e8452794340648a0b4eccd",
      "52de53bf379a4f04b4f6f71278d5d946",
      "6d0b8c53bc504d168a273a2a5eefb9ed",
      "43deeee4f54c44fd9c0d510fde1900b6",
      "a88c9348e4224c8ea5271f4043f84704",
      "0b66ca60a9064cfcb10af1c2c2739eb2",
      "8cb60d001a174d33972a081aecf8c0a1",
      "38e2f52ab06d4045bbb19a23b6b09054",
      "835ea1c69ffb4906bccc681844d142f9",
      "e395fa510aaf47b092b834e34a9c5d5b",
      "5773f9db4dee4ca4aa611aaf95be53c2",
      "d8019749d0e240d4ba51c4ef35b2487d",
      "eed75748e9734677b3362b04965166a1",
      "4fcfbba79c6d4842862a116856737f18",
      "b8d61b57c5174c51a27dda92f69b27e9",
      "06a9c5ea114c48faac3c876e28716e41",
      "1b1448bc177c44d190143d7daeefcc31",
      "1646c2a2210240d7bd40c854fe514050",
      "d3ad13622aa7468eacd0f763406abc1c",
      "7e237a9c6fae4a259f4fa51b9742560f",
      "9bbcd26ec2b54bd680ab055bec067aeb",
      "80ff15b8e08d4c45b78d15af2b9b5421",
      "5b51e33a2c5f4b92a0741a5881f0c5d4",
      "66661e83236b4c40a18136b7bfb18777",
      "def7180104d54f598bd5c88c0ec74042",
      "9b33eacf3b7940d8ac1e5b87e71209be",
      "5d8fcbff133149cbbee27e033fe216c4",
      "e90a52d52a9443f79abec02c07124ab9",
      "9778ed2ece014dcc862e5874cecaf987",
      "4affc4802e284b189a7a86f5ce317722",
      "d619878c677340d0b580d26aba0d31c6",
      "de6c14097d574631b2078faa08846ffc",
      "91f513c2ae704a0297e8a9d6347dfec8",
      "438c1c3e5b77481f8405e0517e24b807",
      "29f4d39ea2564b7aaba18bf3ce2a2b8c",
      "412599cf652d4a58bd18394b1941d9e3",
      "da9a1ecbc90340c98ebef604e083db6c",
      "aa8e610386724af88eebd51018739562",
      "dbbc833284814042bc1e87a4f5bf2d33",
      "c6d3b67a8258426393d99ddaf38b63ac",
      "393ac536333d434da124887139e65d43",
      "8005820faf5b4285b7c56e8b3ffc76ac",
      "b94b4bdc0f404d7084c0371b0944c7c1"
     ]
    },
    "executionInfo": {
     "elapsed": 36585,
     "status": "ok",
     "timestamp": 1721712672819,
     "user": {
      "displayName": "Jitesh Sahu",
      "userId": "04954668216875868768"
     },
     "user_tz": -330
    },
    "id": "ADNHD2mgAjOE",
    "outputId": "3d1138e6-6326-47d3-cf31-9ac5faeac486"
   },
   "outputs": [
    {
     "name": "stderr",
     "output_type": "stream",
     "text": [
      "c:\\Users\\jites\\anaconda3\\envs\\gpu_env\\Lib\\site-packages\\tqdm\\auto.py:21: TqdmWarning: IProgress not found. Please update jupyter and ipywidgets. See https://ipywidgets.readthedocs.io/en/stable/user_install.html\n",
      "  from .autonotebook import tqdm as notebook_tqdm\n"
     ]
    }
   ],
   "source": [
    "from transformers import T5Tokenizer, T5ForConditionalGeneration, Trainer, TrainingArguments, DataCollatorForLanguageModeling, \\\n",
    "    DataCollatorForSeq2Seq, AutoTokenizer, AutoModelForSeq2SeqLM, AutoModel, T5Config\n",
    "from datasets import Dataset\n",
    "from sklearn.model_selection import train_test_split\n",
    "import torch\n",
    "from transformers.optimization import get_scheduler\n",
    "from transformers import EarlyStoppingCallback\n",
    "from torch.optim import AdamW\n",
    "\n",
    "\n",
    "\n",
    "device = torch.device('cuda' if torch.cuda.is_available() else 'cpu')\n",
    "\n",
    "# Load pre-trained T5 model and tokenizer\n",
    "model_name = \"t5-small\"  # or \"t5-base\" for better performance\n",
    "# model_name = \"t5-base\"\n",
    "\n",
    "# config = T5Config(num_layers=8, dropout_rate= 0.2)\n",
    "# tokenizer = T5Tokenizer.from_pretrained(model_name)\n",
    "# model = T5ForConditionalGeneration.from_pretrained(model_name, config=config).to(device)\n",
    "\n",
    "# tokenizer = T5Tokenizer.from_pretrained(model_name)\n",
    "# model = T5ForConditionalGeneration.from_pretrained(model_name).to(device)\n",
    "# # model.config.dropout_rate = 0.2\n",
    "\n",
    "tokenizer = AutoTokenizer.from_pretrained(model_name)\n",
    "model = AutoModelForSeq2SeqLM.from_pretrained(model_name).to(device)\n",
    "model.config.dropout_rate = 0.2"
   ]
  },
  {
   "cell_type": "code",
   "execution_count": 4,
   "metadata": {},
   "outputs": [],
   "source": [
    "# # print(len(tokenizer.vocab.keys()))\n",
    "\n",
    "# # tokenizer.add_tokens(['<START_JSON>', '<END_JSON>'])\n",
    "# special_tokens = {\"additional_special_tokens\": ['<START_JSON>', '<END_JSON>']}\n",
    "# tokenizer.add_special_tokens(special_tokens)\n",
    "# model.resize_token_embeddings(len(tokenizer))\n",
    "\n",
    "# # print(len(tokenizer.vocab.keys()))\n",
    "# print(tokenizer.tokenize(\"<START_JSON> Hi, I am a {Robot} <END_JSON>\"))\n"
   ]
  },
  {
   "cell_type": "code",
   "execution_count": 5,
   "metadata": {
    "id": "ZqF-CAejAjR-"
   },
   "outputs": [],
   "source": [
    "import json\n",
    "\n",
    "with open(r'C:\\Users\\jites\\Desktop\\Project_folder\\json_dataset\\december21\\data_10000.json', 'r') as f:\n",
    "    data = json.load(f)\n",
    "\n",
    "raw_dataset = Dataset.from_list(data)\n",
    "\n",
    "# data_collator = DataCollatorForLanguageModeling(\n",
    "#     tokenizer=tokenizer, mlm=False\n",
    "# )\n",
    "\n",
    "\n",
    "\n",
    "data_collator = DataCollatorForSeq2Seq(\n",
    "    tokenizer=tokenizer,  # Use the same tokenizer as your model\n",
    "    model=None,           # Specify model if you want model-specific padding/truncation\n",
    "    padding=True,         # Dynamically pad sequences in the batch\n",
    "    # max_length=512,       # Optional: Truncate to max length\n",
    "    return_tensors=\"pt\"   # Return PyTorch tensors (or 'tf' for TensorFlow)\n",
    ")"
   ]
  },
  {
   "cell_type": "code",
   "execution_count": 6,
   "metadata": {},
   "outputs": [],
   "source": [
    "# from torch.nn.utils.rnn import pad_sequence\n",
    "# import torch\n",
    "\n",
    "# def custom_data_collator(batch):\n",
    "#     # Split inputs and labels\n",
    "#     inputs = [item['input_ids'] for item in batch]\n",
    "#     labels = [item['labels'] for item in batch]\n",
    "    \n",
    "#     # Pad sequences\n",
    "#     inputs_padded = pad_sequence([torch.tensor(x) for x in inputs], batch_first=True, padding_value=tokenizer.pad_token_id)\n",
    "#     labels_padded = pad_sequence([torch.tensor(x) for x in labels], batch_first=True, padding_value=-100)  # For ignoring padded tokens in loss\n",
    "    \n",
    "#     # Create attention masks\n",
    "#     attention_mask = (inputs_padded != tokenizer.pad_token_id).long()\n",
    "    \n",
    "#     return {\n",
    "#         \"input_ids\": inputs_padded,\n",
    "#         \"attention_mask\": attention_mask,\n",
    "#         \"labels\": labels_padded\n",
    "#     }\n",
    "\n",
    "# from torch.utils.data import DataLoader\n",
    "\n",
    "# # Assuming `train_dataset` is your tokenized dataset\n",
    "# train_dataloader = DataLoader(\n",
    "#     train_dataset,\n",
    "#     batch_size=16,\n",
    "#     collate_fn=data_collator  # Use DataCollatorForSeq2Seq or your custom collator\n",
    "# )\n"
   ]
  },
  {
   "cell_type": "code",
   "execution_count": 7,
   "metadata": {},
   "outputs": [
    {
     "name": "stdout",
     "output_type": "stream",
     "text": [
      "Issues such as acute liver failure and feeling of general weakness prompted tests like Colorectal Cancer Screening, Audiogram. Medicines include take it for 2 days strocit plus tab before food only afternoon and night . Follow up date is 30 days. Follow stress management techniques like meditation or yoga., Avoid self-medicating without consulting a doctor.\n",
      "{'ChiefComplaint': 'The patient is experiencing acute liver failure, feeling of general weakness.', 'Symptoms': ['acute liver failure', 'feeling of general weakness'], 'LabTest': ['Colorectal Cancer Screening', 'Audiogram'], 'Advice': ['Follow stress management techniques like meditation or yoga.', 'Avoid self-medicating without consulting a doctor.'], 'FollowUp': 'Follow up date is 30 days.', 'Medicines': [{'name': 'strocit plus tab', 'quantity': '4', 'route': 'oral', 'instruction': 'before food', 'duration': '2 days', 'frequency': '0-1-1'}]}\n"
     ]
    }
   ],
   "source": [
    "print(raw_dataset['input_text'][0])\n",
    "print(raw_dataset['target_text'][0])"
   ]
  },
  {
   "cell_type": "code",
   "execution_count": 8,
   "metadata": {
    "colab": {
     "base_uri": "https://localhost:8080/",
     "height": 81,
     "referenced_widgets": [
      "2f72c5bebb0c4e8fb81ea3f7cb90b876",
      "cec02ffd3b664572bab8319bc44e098b",
      "fbff92dd6ce449398572df557d1b82aa",
      "538d9e2b35d440dd9dd4c8cc23f1757e",
      "ecb7b50f65d34ae7a37bb2c3334a0575",
      "ee3fea8041744a53ab3d04a5f7dd3799",
      "d1eb9182a0f04b65b8bf95eaa609940d",
      "7cba77ec115146ac98a5714a2a6fa08e",
      "cff825a7e9614712a11150ff2d22fce2",
      "2ed6bc99b34e4c6f81ed56b9d8a0d388",
      "1c757a27cc1b45f99bc4731f8ae53898",
      "e7f5c74802bf4b5a9455d525544aece8",
      "1b7ad0c7397b4084b9956844b2df8c45",
      "142621ea85fd41f6938857126965fd58",
      "e172b9ebd322400d95241fdd64b7ab43",
      "54082d4addcc44dca52d739f3ed4a6bf",
      "4e5475a16ff44ac1b92147682b8ac94f",
      "dbb646ca9b324b7487ae44dfac69073a",
      "0c4fd6742a81405faa567b11fa9f9f0b",
      "81ed8137b8534155a015c06d7e46cca5",
      "d488eb83b3eb4f2a8ffa10e9aee52f52",
      "2fbd51cfbd9547159c4c3c977e8a7fa0"
     ]
    },
    "executionInfo": {
     "elapsed": 3985,
     "status": "ok",
     "timestamp": 1721712787890,
     "user": {
      "displayName": "Jitesh Sahu",
      "userId": "04954668216875868768"
     },
     "user_tz": -330
    },
    "id": "KLQglzZ6ESQh",
    "outputId": "098fd43c-a1d7-4eac-a725-95b9238fa7a0"
   },
   "outputs": [
    {
     "name": "stderr",
     "output_type": "stream",
     "text": [
      "Map: 100%|██████████| 10000/10000 [00:02<00:00, 3453.16 examples/s]\n"
     ]
    }
   ],
   "source": [
    "# Preprocess the data\n",
    "def preprocess_function(examples):\n",
    "    inputs = tokenizer(examples['input_text'], truncation=True, padding='max_length', max_length=256)\n",
    "    targets = tokenizer(examples['target_text'], truncation=True, padding='max_length', max_length=512)\n",
    "    inputs['labels'] = targets['input_ids']\n",
    "            ## OR\n",
    "    # # Add decoder_input_ids (shift the target by 1 for causal generation)\n",
    "    # inputs['decoder_input_ids'] = targets['input_ids']  # This can also be targets['input_ids'][shifted]\n",
    "            ## OR\n",
    "    #   # Add decoder input IDs and labels\n",
    "    # inputs['decoder_input_ids'] = targets['input_ids']  # Optional for training\n",
    "    # inputs['labels'] = [\n",
    "    #     [(token if token != tokenizer.pad_token_id else -100) for token in target] \n",
    "    #     for target in targets['input_ids']\n",
    "    # ]  # Mask out padding tokens in the labels\n",
    "    return inputs\n",
    "\n",
    "# Tokenize the dataset\n",
    "tokenized_dataset = raw_dataset.map(preprocess_function, batched=True)"
   ]
  },
  {
   "cell_type": "code",
   "execution_count": 9,
   "metadata": {},
   "outputs": [
    {
     "data": {
      "text/plain": [
       "Dataset({\n",
       "    features: ['input_text', 'target_text', 'input_ids', 'attention_mask', 'labels'],\n",
       "    num_rows: 10000\n",
       "})"
      ]
     },
     "execution_count": 9,
     "metadata": {},
     "output_type": "execute_result"
    }
   ],
   "source": [
    "tokenized_dataset"
   ]
  },
  {
   "cell_type": "code",
   "execution_count": 10,
   "metadata": {},
   "outputs": [
    {
     "name": "stdout",
     "output_type": "stream",
     "text": [
      "The patient describes issues involving trouble in straight and mucoid sputum. and medicines involve Stamlo 5Mg Tablets afternoon and night 8 tablets  4 days , ZECAL 500MG TABLETS 24 tablets  12 days noon and night . Suggested tests include Semen Analysis, Luteinizing Hormone (LH), Holter Monitoring and suggested tests include Dobutamine Stress Echocardiogram.\n",
      "{'ChiefComplaint': 'The patient is experiencing trouble in straight, mucoid sputum.', 'Symptoms': ['trouble in straight', 'mucoid sputum'], 'LabTest': ['Semen Analysis', 'Luteinizing Hormone (LH)', 'Holter Monitoring', 'Dobutamine Stress Echocardiogram'], 'Advice': [], 'FollowUp': 'null', 'Medicines': [{'name': 'Stamlo 5Mg Tablets', 'quantity': '8', 'route': 'oral', 'instruction': 'null', 'duration': '4 days', 'frequency': '0-1-1'}, {'name': 'ZECAL 500MG TABLETS', 'quantity': '24', 'route': 'oral', 'instruction': 'null', 'duration': '12 days', 'frequency': '0-1-1'}]}\n"
     ]
    }
   ],
   "source": [
    "print(tokenized_dataset['input_text'][5])\n",
    "print(tokenized_dataset['target_text'][5])"
   ]
  },
  {
   "cell_type": "code",
   "execution_count": 11,
   "metadata": {},
   "outputs": [],
   "source": [
    "# # Split the dataset into 80% training and 20% validation\n",
    "# split_dataset = dataset.train_test_split(test_size=0.2, seed=42)\n",
    "# train_dataset = split_dataset[\"train\"]\n",
    "# val_dataset = split_dataset[\"test\"]\n",
    "        ## OR\n",
    "train_val_split = tokenized_dataset.train_test_split(test_size=0.2, seed=42)\n",
    "val_test_split = train_val_split[\"test\"].train_test_split(test_size=0.2, seed=42)\n",
    "\n",
    "train_dataset = train_val_split[\"train\"]\n",
    "val_dataset = val_test_split[\"train\"]\n",
    "test_dataset = val_test_split[\"test\"]"
   ]
  },
  {
   "cell_type": "code",
   "execution_count": 12,
   "metadata": {},
   "outputs": [
    {
     "name": "stdout",
     "output_type": "stream",
     "text": [
      "(8000, 5)\n",
      "(1600, 5)\n",
      "(400, 5)\n"
     ]
    }
   ],
   "source": [
    "print(train_dataset.shape)\n",
    "print(val_dataset.shape)\n",
    "print(test_dataset.shape)"
   ]
  },
  {
   "cell_type": "code",
   "execution_count": 13,
   "metadata": {},
   "outputs": [],
   "source": [
    "# !pip install evaluate"
   ]
  },
  {
   "cell_type": "code",
   "execution_count": 14,
   "metadata": {},
   "outputs": [],
   "source": [
    "# from datasets import load_metric\n",
    "# import numpy as np\n",
    "\n",
    "# # Example metric (e.g., accuracy for classification tasks)\n",
    "# metric = load_metric(\"accuracy\")\n",
    "\n",
    "# def compute_metrics(eval_pred):\n",
    "#     logits, labels = eval_pred\n",
    "#     predictions = np.argmax(logits, axis=-1)\n",
    "#     return metric.compute(predictions=predictions, references=labels)\n",
    "import evaluate\n",
    "import numpy as np\n",
    "\n",
    "metric = evaluate.load('accuracy')\n",
    "\n",
    "def compute_metrics(eval_pred):\n",
    "    logits, labels = eval_pred\n",
    "    predictions = np.argmax(logits, axis=-1)\n",
    "    # return metric.compute(predictions=predictions, references=labels)\n",
    "    return {\"accuracy\": metric.compute(predictions=predictions, references=labels)}\n",
    "\n"
   ]
  },
  {
   "cell_type": "code",
   "execution_count": 15,
   "metadata": {
    "colab": {
     "base_uri": "https://localhost:8080/",
     "height": 420
    },
    "executionInfo": {
     "elapsed": 815115,
     "status": "ok",
     "timestamp": 1721725548956,
     "user": {
      "displayName": "Jitesh Sahu",
      "userId": "04954668216875868768"
     },
     "user_tz": -330
    },
    "id": "R9gQsDKEESex",
    "outputId": "655cb773-8d6c-4919-ec4a-bcee02e36d9e"
   },
   "outputs": [
    {
     "name": "stderr",
     "output_type": "stream",
     "text": [
      "  3%|▎         | 100/3000 [18:58<9:02:26, 11.22s/it]"
     ]
    },
    {
     "name": "stdout",
     "output_type": "stream",
     "text": [
      "{'loss': 4.6037, 'grad_norm': 0.6187983155250549, 'learning_rate': 6.666666666666667e-05, 'epoch': 0.4}\n"
     ]
    },
    {
     "name": "stderr",
     "output_type": "stream",
     "text": [
      "  7%|▋         | 200/3000 [37:41<8:47:22, 11.30s/it]"
     ]
    },
    {
     "name": "stdout",
     "output_type": "stream",
     "text": [
      "{'loss': 0.4192, 'grad_norm': 0.30518123507499695, 'learning_rate': 0.00013333333333333334, 'epoch': 0.8}\n"
     ]
    },
    {
     "name": "stderr",
     "output_type": "stream",
     "text": [
      "                                                    \n",
      "  8%|▊         | 250/3000 [47:46<8:34:58, 11.24s/it]"
     ]
    },
    {
     "name": "stdout",
     "output_type": "stream",
     "text": [
      "{'eval_loss': 0.07963237911462784, 'eval_runtime': 43.2185, 'eval_samples_per_second': 37.021, 'eval_steps_per_second': 4.628, 'epoch': 1.0}\n"
     ]
    },
    {
     "name": "stderr",
     "output_type": "stream",
     "text": [
      " 10%|█         | 300/3000 [58:46<9:55:36, 13.24s/it] "
     ]
    },
    {
     "name": "stdout",
     "output_type": "stream",
     "text": [
      "{'loss': 0.1459, 'grad_norm': 0.23165051639080048, 'learning_rate': 0.0002, 'epoch': 1.2}\n"
     ]
    },
    {
     "name": "stderr",
     "output_type": "stream",
     "text": [
      " 13%|█▎        | 400/3000 [1:22:00<10:12:27, 14.13s/it]"
     ]
    },
    {
     "name": "stdout",
     "output_type": "stream",
     "text": [
      "{'loss': 0.0889, 'grad_norm': 0.15839338302612305, 'learning_rate': 0.0001982905982905983, 'epoch': 1.6}\n"
     ]
    },
    {
     "name": "stderr",
     "output_type": "stream",
     "text": [
      " 17%|█▋        | 500/3000 [1:45:26<9:46:22, 14.07s/it] "
     ]
    },
    {
     "name": "stdout",
     "output_type": "stream",
     "text": [
      "{'loss': 0.0664, 'grad_norm': 0.24039801955223083, 'learning_rate': 0.00019658119658119659, 'epoch': 2.0}\n"
     ]
    },
    {
     "name": "stderr",
     "output_type": "stream",
     "text": [
      "                                                      \n",
      " 17%|█▋        | 500/3000 [1:46:42<9:46:22, 14.07s/it]"
     ]
    },
    {
     "name": "stdout",
     "output_type": "stream",
     "text": [
      "{'eval_loss': 0.03404322266578674, 'eval_runtime': 75.4819, 'eval_samples_per_second': 21.197, 'eval_steps_per_second': 2.65, 'epoch': 2.0}\n"
     ]
    },
    {
     "name": "stderr",
     "output_type": "stream",
     "text": [
      " 20%|██        | 600/3000 [2:09:51<9:05:37, 13.64s/it] "
     ]
    },
    {
     "name": "stdout",
     "output_type": "stream",
     "text": [
      "{'loss': 0.0524, 'grad_norm': 0.12614312767982483, 'learning_rate': 0.00019487179487179487, 'epoch': 2.4}\n"
     ]
    },
    {
     "name": "stderr",
     "output_type": "stream",
     "text": [
      " 23%|██▎       | 700/3000 [2:32:26<8:38:53, 13.54s/it]"
     ]
    },
    {
     "name": "stdout",
     "output_type": "stream",
     "text": [
      "{'loss': 0.0436, 'grad_norm': 0.13793498277664185, 'learning_rate': 0.00019316239316239316, 'epoch': 2.8}\n"
     ]
    },
    {
     "name": "stderr",
     "output_type": "stream",
     "text": [
      "                                                      \n",
      " 25%|██▌       | 750/3000 [2:44:39<8:36:10, 13.76s/it]"
     ]
    },
    {
     "name": "stdout",
     "output_type": "stream",
     "text": [
      "{'eval_loss': 0.017456648871302605, 'eval_runtime': 43.7557, 'eval_samples_per_second': 36.567, 'eval_steps_per_second': 4.571, 'epoch': 3.0}\n"
     ]
    },
    {
     "name": "stderr",
     "output_type": "stream",
     "text": [
      " 27%|██▋       | 800/3000 [2:55:48<8:09:09, 13.34s/it] "
     ]
    },
    {
     "name": "stdout",
     "output_type": "stream",
     "text": [
      "{'loss': 0.0357, 'grad_norm': 0.14234331250190735, 'learning_rate': 0.00019145299145299148, 'epoch': 3.2}\n"
     ]
    },
    {
     "name": "stderr",
     "output_type": "stream",
     "text": [
      " 30%|███       | 900/3000 [3:17:50<7:43:41, 13.25s/it]"
     ]
    },
    {
     "name": "stdout",
     "output_type": "stream",
     "text": [
      "{'loss': 0.03, 'grad_norm': 0.09375723451375961, 'learning_rate': 0.00018974358974358974, 'epoch': 3.6}\n"
     ]
    },
    {
     "name": "stderr",
     "output_type": "stream",
     "text": [
      " 33%|███▎      | 1000/3000 [3:40:22<7:21:29, 13.24s/it]"
     ]
    },
    {
     "name": "stdout",
     "output_type": "stream",
     "text": [
      "{'loss': 0.0258, 'grad_norm': 0.09688172489404678, 'learning_rate': 0.00018803418803418803, 'epoch': 4.0}\n"
     ]
    },
    {
     "name": "stderr",
     "output_type": "stream",
     "text": [
      "                                                       \n",
      " 33%|███▎      | 1000/3000 [3:41:05<7:21:29, 13.24s/it]"
     ]
    },
    {
     "name": "stdout",
     "output_type": "stream",
     "text": [
      "{'eval_loss': 0.012019207701086998, 'eval_runtime': 43.3095, 'eval_samples_per_second': 36.943, 'eval_steps_per_second': 4.618, 'epoch': 4.0}\n"
     ]
    },
    {
     "name": "stderr",
     "output_type": "stream",
     "text": [
      " 37%|███▋      | 1100/3000 [4:00:11<6:02:44, 11.46s/it] "
     ]
    },
    {
     "name": "stdout",
     "output_type": "stream",
     "text": [
      "{'loss': 0.0226, 'grad_norm': 0.07128357142210007, 'learning_rate': 0.00018632478632478634, 'epoch': 4.4}\n"
     ]
    },
    {
     "name": "stderr",
     "output_type": "stream",
     "text": [
      " 40%|████      | 1200/3000 [4:19:27<5:44:34, 11.49s/it]"
     ]
    },
    {
     "name": "stdout",
     "output_type": "stream",
     "text": [
      "{'loss': 0.0205, 'grad_norm': 0.057321202009916306, 'learning_rate': 0.00018461538461538463, 'epoch': 4.8}\n"
     ]
    },
    {
     "name": "stderr",
     "output_type": "stream",
     "text": [
      "                                                       \n",
      " 42%|████▏     | 1250/3000 [4:29:46<5:35:39, 11.51s/it]"
     ]
    },
    {
     "name": "stdout",
     "output_type": "stream",
     "text": [
      "{'eval_loss': 0.0094125522300601, 'eval_runtime': 43.5238, 'eval_samples_per_second': 36.762, 'eval_steps_per_second': 4.595, 'epoch': 5.0}\n"
     ]
    },
    {
     "name": "stderr",
     "output_type": "stream",
     "text": [
      " 43%|████▎     | 1300/3000 [4:40:42<6:10:14, 13.07s/it] "
     ]
    },
    {
     "name": "stdout",
     "output_type": "stream",
     "text": [
      "{'loss': 0.0179, 'grad_norm': 0.07452698796987534, 'learning_rate': 0.00018290598290598292, 'epoch': 5.2}\n"
     ]
    },
    {
     "name": "stderr",
     "output_type": "stream",
     "text": [
      " 47%|████▋     | 1400/3000 [5:02:40<5:52:00, 13.20s/it]"
     ]
    },
    {
     "name": "stdout",
     "output_type": "stream",
     "text": [
      "{'loss': 0.0171, 'grad_norm': 0.13388842344284058, 'learning_rate': 0.0001811965811965812, 'epoch': 5.6}\n"
     ]
    },
    {
     "name": "stderr",
     "output_type": "stream",
     "text": [
      " 50%|█████     | 1500/3000 [5:24:32<5:26:52, 13.08s/it]"
     ]
    },
    {
     "name": "stdout",
     "output_type": "stream",
     "text": [
      "{'loss': 0.0163, 'grad_norm': 0.09416917711496353, 'learning_rate': 0.0001794871794871795, 'epoch': 6.0}\n"
     ]
    },
    {
     "name": "stderr",
     "output_type": "stream",
     "text": [
      "                                                       \n",
      " 50%|█████     | 1500/3000 [5:25:15<5:26:52, 13.08s/it]"
     ]
    },
    {
     "name": "stdout",
     "output_type": "stream",
     "text": [
      "{'eval_loss': 0.0077880811877548695, 'eval_runtime': 43.1719, 'eval_samples_per_second': 37.061, 'eval_steps_per_second': 4.633, 'epoch': 6.0}\n"
     ]
    },
    {
     "name": "stderr",
     "output_type": "stream",
     "text": [
      " 53%|█████▎    | 1600/3000 [5:44:28<5:06:32, 13.14s/it] "
     ]
    },
    {
     "name": "stdout",
     "output_type": "stream",
     "text": [
      "{'loss': 0.0147, 'grad_norm': 0.06117774546146393, 'learning_rate': 0.00017777777777777779, 'epoch': 6.4}\n"
     ]
    },
    {
     "name": "stderr",
     "output_type": "stream",
     "text": [
      " 57%|█████▋    | 1700/3000 [6:06:48<4:50:49, 13.42s/it]"
     ]
    },
    {
     "name": "stdout",
     "output_type": "stream",
     "text": [
      "{'loss': 0.0138, 'grad_norm': 0.04995385557413101, 'learning_rate': 0.00017606837606837607, 'epoch': 6.8}\n"
     ]
    },
    {
     "name": "stderr",
     "output_type": "stream",
     "text": [
      "                                                       \n",
      " 58%|█████▊    | 1750/3000 [6:18:38<4:38:16, 13.36s/it]"
     ]
    },
    {
     "name": "stdout",
     "output_type": "stream",
     "text": [
      "{'eval_loss': 0.0066665224730968475, 'eval_runtime': 43.9705, 'eval_samples_per_second': 36.388, 'eval_steps_per_second': 4.549, 'epoch': 7.0}\n"
     ]
    },
    {
     "name": "stderr",
     "output_type": "stream",
     "text": [
      " 60%|██████    | 1800/3000 [6:29:48<4:28:52, 13.44s/it]"
     ]
    },
    {
     "name": "stdout",
     "output_type": "stream",
     "text": [
      "{'loss': 0.0129, 'grad_norm': 0.08648736029863358, 'learning_rate': 0.00017435897435897436, 'epoch': 7.2}\n"
     ]
    },
    {
     "name": "stderr",
     "output_type": "stream",
     "text": [
      " 63%|██████▎   | 1900/3000 [6:52:03<4:03:53, 13.30s/it]"
     ]
    },
    {
     "name": "stdout",
     "output_type": "stream",
     "text": [
      "{'loss': 0.012, 'grad_norm': 0.07294806838035583, 'learning_rate': 0.00017264957264957268, 'epoch': 7.6}\n"
     ]
    },
    {
     "name": "stderr",
     "output_type": "stream",
     "text": [
      " 67%|██████▋   | 2000/3000 [7:15:57<3:59:00, 14.34s/it]"
     ]
    },
    {
     "name": "stdout",
     "output_type": "stream",
     "text": [
      "{'loss': 0.0115, 'grad_norm': 0.06359679251909256, 'learning_rate': 0.00017094017094017094, 'epoch': 8.0}\n"
     ]
    },
    {
     "name": "stderr",
     "output_type": "stream",
     "text": [
      "                                                       \n",
      " 67%|██████▋   | 2000/3000 [7:16:40<3:59:00, 14.34s/it]"
     ]
    },
    {
     "name": "stdout",
     "output_type": "stream",
     "text": [
      "{'eval_loss': 0.005707752890884876, 'eval_runtime': 43.0461, 'eval_samples_per_second': 37.169, 'eval_steps_per_second': 4.646, 'epoch': 8.0}\n"
     ]
    },
    {
     "name": "stderr",
     "output_type": "stream",
     "text": [
      " 70%|███████   | 2100/3000 [7:39:06<3:21:45, 13.45s/it]"
     ]
    },
    {
     "name": "stdout",
     "output_type": "stream",
     "text": [
      "{'loss': 0.0114, 'grad_norm': 0.07257170975208282, 'learning_rate': 0.00016923076923076923, 'epoch': 8.4}\n"
     ]
    },
    {
     "name": "stderr",
     "output_type": "stream",
     "text": [
      " 73%|███████▎  | 2200/3000 [8:03:23<3:14:36, 14.60s/it]"
     ]
    },
    {
     "name": "stdout",
     "output_type": "stream",
     "text": [
      "{'loss': 0.0102, 'grad_norm': 0.04798521101474762, 'learning_rate': 0.00016752136752136754, 'epoch': 8.8}\n"
     ]
    },
    {
     "name": "stderr",
     "output_type": "stream",
     "text": [
      "                                                       \n",
      " 75%|███████▌  | 2250/3000 [8:16:05<3:00:03, 14.40s/it]"
     ]
    },
    {
     "name": "stdout",
     "output_type": "stream",
     "text": [
      "{'eval_loss': 0.005090031772851944, 'eval_runtime': 43.9193, 'eval_samples_per_second': 36.43, 'eval_steps_per_second': 4.554, 'epoch': 9.0}\n"
     ]
    },
    {
     "name": "stderr",
     "output_type": "stream",
     "text": [
      " 77%|███████▋  | 2300/3000 [8:27:04<2:34:11, 13.22s/it]"
     ]
    },
    {
     "name": "stdout",
     "output_type": "stream",
     "text": [
      "{'loss': 0.0097, 'grad_norm': 0.07142528891563416, 'learning_rate': 0.00016581196581196583, 'epoch': 9.2}\n"
     ]
    },
    {
     "name": "stderr",
     "output_type": "stream",
     "text": [
      " 80%|████████  | 2400/3000 [8:49:01<2:11:51, 13.19s/it]"
     ]
    },
    {
     "name": "stdout",
     "output_type": "stream",
     "text": [
      "{'loss': 0.009, 'grad_norm': 0.07210476696491241, 'learning_rate': 0.0001641025641025641, 'epoch': 9.6}\n"
     ]
    },
    {
     "name": "stderr",
     "output_type": "stream",
     "text": [
      " 83%|████████▎ | 2500/3000 [9:10:56<1:49:14, 13.11s/it]"
     ]
    },
    {
     "name": "stdout",
     "output_type": "stream",
     "text": [
      "{'loss': 0.009, 'grad_norm': 0.05772515758872032, 'learning_rate': 0.0001623931623931624, 'epoch': 10.0}\n"
     ]
    },
    {
     "name": "stderr",
     "output_type": "stream",
     "text": [
      "                                                       \n",
      " 83%|████████▎ | 2500/3000 [9:11:38<1:49:14, 13.11s/it]"
     ]
    },
    {
     "name": "stdout",
     "output_type": "stream",
     "text": [
      "{'eval_loss': 0.004440614487975836, 'eval_runtime': 42.9412, 'eval_samples_per_second': 37.26, 'eval_steps_per_second': 4.658, 'epoch': 10.0}\n"
     ]
    },
    {
     "name": "stderr",
     "output_type": "stream",
     "text": [
      " 87%|████████▋ | 2600/3000 [9:34:00<1:29:37, 13.44s/it]"
     ]
    },
    {
     "name": "stdout",
     "output_type": "stream",
     "text": [
      "{'loss': 0.0083, 'grad_norm': 0.1066063717007637, 'learning_rate': 0.0001606837606837607, 'epoch': 10.4}\n"
     ]
    },
    {
     "name": "stderr",
     "output_type": "stream",
     "text": [
      " 90%|█████████ | 2700/3000 [9:56:17<1:06:14, 13.25s/it]"
     ]
    },
    {
     "name": "stdout",
     "output_type": "stream",
     "text": [
      "{'loss': 0.0079, 'grad_norm': 0.05632249638438225, 'learning_rate': 0.00015897435897435896, 'epoch': 10.8}\n"
     ]
    },
    {
     "name": "stderr",
     "output_type": "stream",
     "text": [
      "                                                        \n",
      " 92%|█████████▏| 2750/3000 [10:08:10<55:42, 13.37s/it]"
     ]
    },
    {
     "name": "stdout",
     "output_type": "stream",
     "text": [
      "{'eval_loss': 0.00395336514338851, 'eval_runtime': 43.2878, 'eval_samples_per_second': 36.962, 'eval_steps_per_second': 4.62, 'epoch': 11.0}\n"
     ]
    },
    {
     "name": "stderr",
     "output_type": "stream",
     "text": [
      " 93%|█████████▎| 2800/3000 [10:19:26<44:59, 13.50s/it]  "
     ]
    },
    {
     "name": "stdout",
     "output_type": "stream",
     "text": [
      "{'loss': 0.0078, 'grad_norm': 0.05621540918946266, 'learning_rate': 0.00015726495726495727, 'epoch': 11.2}\n"
     ]
    },
    {
     "name": "stderr",
     "output_type": "stream",
     "text": [
      " 97%|█████████▋| 2900/3000 [10:41:57<22:30, 13.50s/it]"
     ]
    },
    {
     "name": "stdout",
     "output_type": "stream",
     "text": [
      "{'loss': 0.007, 'grad_norm': 0.09419259428977966, 'learning_rate': 0.00015555555555555556, 'epoch': 11.6}\n"
     ]
    },
    {
     "name": "stderr",
     "output_type": "stream",
     "text": [
      "100%|██████████| 3000/3000 [11:04:30<00:00, 13.57s/it]"
     ]
    },
    {
     "name": "stdout",
     "output_type": "stream",
     "text": [
      "{'loss': 0.0074, 'grad_norm': 0.050378475338220596, 'learning_rate': 0.00015384615384615385, 'epoch': 12.0}\n"
     ]
    },
    {
     "name": "stderr",
     "output_type": "stream",
     "text": [
      "                                                      \n",
      "100%|██████████| 3000/3000 [11:05:14<00:00, 13.57s/it]"
     ]
    },
    {
     "name": "stdout",
     "output_type": "stream",
     "text": [
      "{'eval_loss': 0.0038227690383791924, 'eval_runtime': 43.1597, 'eval_samples_per_second': 37.072, 'eval_steps_per_second': 4.634, 'epoch': 12.0}\n"
     ]
    },
    {
     "name": "stderr",
     "output_type": "stream",
     "text": [
      "There were missing keys in the checkpoint model loaded: ['encoder.embed_tokens.weight', 'decoder.embed_tokens.weight', 'lm_head.weight'].\n",
      "100%|██████████| 3000/3000 [11:05:15<00:00, 13.57s/it]"
     ]
    },
    {
     "name": "stdout",
     "output_type": "stream",
     "text": [
      "{'train_runtime': 39916.0227, 'train_samples_per_second': 2.405, 'train_steps_per_second': 0.075, 'train_loss': 0.1919476176102956, 'epoch': 12.0}\n"
     ]
    },
    {
     "name": "stderr",
     "output_type": "stream",
     "text": [
      "100%|██████████| 3000/3000 [11:05:16<00:00, 13.31s/it]\n"
     ]
    },
    {
     "data": {
      "text/plain": [
       "TrainOutput(global_step=3000, training_loss=0.1919476176102956, metrics={'train_runtime': 39916.0227, 'train_samples_per_second': 2.405, 'train_steps_per_second': 0.075, 'total_flos': 6496406470656000.0, 'train_loss': 0.1919476176102956, 'epoch': 12.0})"
      ]
     },
     "execution_count": 15,
     "metadata": {},
     "output_type": "execute_result"
    }
   ],
   "source": [
    "# # Load the fine-tuned model and tokenizer\n",
    "# tokenizer = T5Tokenizer.from_pretrained('./t5-finetuned-tokenizer')\n",
    "# model = T5ForConditionalGeneration.from_pretrained('./t5-finetuned-model').to(device)\n",
    "\n",
    "# Training arguments\n",
    "training_args = TrainingArguments(\n",
    "    output_dir=\"./results\",\n",
    "    eval_strategy=\"epoch\",\n",
    "    learning_rate=3e-5,                       # Learning rate\n",
    "    per_device_train_batch_size=8,            # Batch size for training\n",
    "    per_device_eval_batch_size=8,             # Batch size for evaluation\n",
    "    num_train_epochs=12,                       # Number of epochs\n",
    "    weight_decay=0.01,                        # Weight decay\n",
    "    warmup_steps=300,                         # Warmup steps\n",
    "    gradient_accumulation_steps=4,            # Gradient accumulation\n",
    "    optim=\"adamw_torch\",                      # Optimizer (AdamW)\n",
    "    save_strategy=\"epoch\",                    # Save every epoch\n",
    "    logging_dir=\"./logs\",                     # Log directory\n",
    "    overwrite_output_dir=True,\n",
    "    eval_steps= 200, ## 400,\n",
    "    save_steps= 200, ## 500,\n",
    "    logging_steps= 100,\n",
    "    load_best_model_at_end=True,  # Load best model at the end based on evaluation\n",
    "    metric_for_best_model='eval_loss',\n",
    "    greater_is_better=False,\n",
    "    save_total_limit=3,                    # Limit saved models\n",
    "    eval_accumulation_steps=4,             # Accumulate eval gradients\n",
    ")\n",
    "\n",
    "\n",
    "optimizer = AdamW(model.parameters(), lr= 0.0002,\n",
    "                weight_decay= 0.01)\n",
    "\n",
    "num_training_steps = len(train_dataset) * training_args.num_train_epochs // training_args.per_device_train_batch_size\n",
    "\n",
    "scheduler = get_scheduler(\"linear\", optimizer=optimizer, \n",
    "                            num_warmup_steps=300, num_training_steps=num_training_steps)\n",
    "\n",
    "# Trainer for fine-tuning the model\n",
    "trainer = Trainer(\n",
    "    model=model,\n",
    "    args=training_args,\n",
    "    data_collator= data_collator,\n",
    "    train_dataset=train_dataset,\n",
    "    eval_dataset=val_dataset,\n",
    "    tokenizer=tokenizer,\n",
    "    optimizers=(optimizer, scheduler),\n",
    "    callbacks=[EarlyStoppingCallback(early_stopping_patience=2)],\n",
    "    # compute_metrics=compute_metrics\n",
    "    )\n",
    "\n",
    "# Resume training\n",
    "trainer.train()"
   ]
  },
  {
   "cell_type": "code",
   "execution_count": 16,
   "metadata": {},
   "outputs": [
    {
     "name": "stderr",
     "output_type": "stream",
     "text": [
      "100%|██████████| 200/200 [00:41<00:00,  4.79it/s]\n"
     ]
    },
    {
     "data": {
      "text/plain": [
       "{'eval_loss': 0.0038227690383791924,\n",
       " 'eval_runtime': 41.7085,\n",
       " 'eval_samples_per_second': 38.361,\n",
       " 'eval_steps_per_second': 4.795,\n",
       " 'epoch': 12.0}"
      ]
     },
     "execution_count": 16,
     "metadata": {},
     "output_type": "execute_result"
    }
   ],
   "source": [
    "trainer.evaluate()"
   ]
  },
  {
   "cell_type": "code",
   "execution_count": 17,
   "metadata": {},
   "outputs": [
    {
     "data": {
      "text/plain": [
       "('./t5-segregate-tokenizer-21dec\\\\tokenizer_config.json',\n",
       " './t5-segregate-tokenizer-21dec\\\\special_tokens_map.json',\n",
       " './t5-segregate-tokenizer-21dec\\\\spiece.model',\n",
       " './t5-segregate-tokenizer-21dec\\\\added_tokens.json',\n",
       " './t5-segregate-tokenizer-21dec\\\\tokenizer.json')"
      ]
     },
     "execution_count": 17,
     "metadata": {},
     "output_type": "execute_result"
    }
   ],
   "source": [
    "# Save the model again if needed\n",
    "model.save_pretrained('./t5-segregate-model-21dec')\n",
    "tokenizer.save_pretrained('./t5-segregate-tokenizer-21dec')"
   ]
  },
  {
   "cell_type": "code",
   "execution_count": 18,
   "metadata": {},
   "outputs": [
    {
     "name": "stderr",
     "output_type": "stream",
     "text": [
      "100%|██████████| 50/50 [00:10<00:00,  4.74it/s]"
     ]
    },
    {
     "name": "stdout",
     "output_type": "stream",
     "text": [
      "Test Results: {'eval_loss': 0.004462759010493755, 'eval_runtime': 10.5828, 'eval_samples_per_second': 37.797, 'eval_steps_per_second': 4.725, 'epoch': 12.0}\n"
     ]
    },
    {
     "name": "stderr",
     "output_type": "stream",
     "text": [
      "\n"
     ]
    }
   ],
   "source": [
    "test_results = trainer.evaluate(test_dataset)\n",
    "print(f\"Test Results: {test_results}\")"
   ]
  },
  {
   "cell_type": "code",
   "execution_count": 19,
   "metadata": {},
   "outputs": [],
   "source": [
    "# predictions = trainer.predict(test_dataset)\n",
    "\n",
    "# # Access logits, predictions, and label IDs\n",
    "# logits = predictions.predictions\n",
    "# labels = predictions.label_ids\n",
    "\n",
    "# # Compute any custom metrics\n",
    "# print(predictions.metrics)\n"
   ]
  },
  {
   "cell_type": "code",
   "execution_count": null,
   "metadata": {},
   "outputs": [],
   "source": []
  },
  {
   "cell_type": "code",
   "execution_count": 20,
   "metadata": {
    "colab": {
     "base_uri": "https://localhost:8080/"
    },
    "executionInfo": {
     "elapsed": 421,
     "status": "ok",
     "timestamp": 1721717911053,
     "user": {
      "displayName": "Jitesh Sahu",
      "userId": "04954668216875868768"
     },
     "user_tz": -330
    },
    "id": "p_zIfOafEScS",
    "outputId": "53ad92e7-7a14-44e7-daf0-251a77fe5af1"
   },
   "outputs": [
    {
     "name": "stdout",
     "output_type": "stream",
     "text": [
      "'ChiefComplaint': 'The patient is experiencing heartburn, belching, and a sour taste in the mouth.', 'Symptoms': ['heartburn', 'belching', 'a sour taste in the mouth'], 'LabTest': ['null', 'endoscopy'], 'Advice': [], 'FollowUp': 'null', 'Medicines': ['name': 'Omeprazole 20mg', 'quantity': 'null', 'route': 'null', 'instruction': 'before meals', 'duration': 'null', 'frequency': '1-0-0', 'name': 'antacids as needed are prescribed.', 'quantity': 'null', 'route': 'null', 'instruction': 'null', 'duration': 'null', 'frequency': 'null']\n",
      "\"\\\"ChiefComplaint\\\": \\\"The patient is experiencing heartburn, belching, and a sour taste in the mouth.\\\", \\\"Symptoms\\\": [\\\"heartburn\\\", \\\"belching\\\", \\\"a sour taste in the mouth\\\"], \\\"LabTest\\\": [\\\"null\\\", \\\"endoscopy\\\"], \\\"Advice\\\": [], \\\"FollowUp\\\": \\\"null\\\", \\\"Medicines\\\": [\\\"name\\\": \\\"Omeprazole 20mg\\\", \\\"quantity\\\": \\\"null\\\", \\\"route\\\": \\\"null\\\", \\\"instruction\\\": \\\"before meals\\\", \\\"duration\\\": \\\"null\\\", \\\"frequency\\\": \\\"1-0-0\\\", \\\"name\\\": \\\"antacids as needed are prescribed.\\\", \\\"quantity\\\": \\\"null\\\", \\\"route\\\": \\\"null\\\", \\\"instruction\\\": \\\"null\\\", \\\"duration\\\": \\\"null\\\", \\\"frequency\\\": \\\"null\\\"]\"\n"
     ]
    }
   ],
   "source": [
    "\n",
    "import torch\n",
    "from transformers import T5Tokenizer, T5ForConditionalGeneration, AutoTokenizer, AutoModelForSeq2SeqLM\n",
    "\n",
    "\n",
    "device = torch.device('cuda' if torch.cuda.is_available() else 'cpu')\n",
    "\n",
    "# tokenizer = AutoTokenizer.from_pretrained('./t5-segregate-tokenizer-05dec-2')\n",
    "# model = AutoModelForSeq2SeqLM.from_pretrained('./t5-segregate-model-05dec-2').to(device)\n",
    "tokenizer = AutoTokenizer.from_pretrained('./t5-segregate-tokenizer-21dec')\n",
    "model = AutoModelForSeq2SeqLM.from_pretrained('./t5-segregate-model-21dec').to(device)\n",
    "\n",
    "\n",
    "def generate_output(paragraph):\n",
    "    paragraph = paragraph.replace(\"'\", \"\")\n",
    "    inputs = tokenizer(paragraph, return_tensors='pt', truncation=True, padding='max_length', max_length=256).to(device)\n",
    "    # print(inputs)\n",
    "    outputs = model.generate(**inputs, max_length=512, num_beams=2, early_stopping=True)\n",
    "    # print(outputs)\n",
    "    # print(outputs[0])\n",
    "    decoded_output = tokenizer.decode(outputs[0], skip_special_tokens=True)\n",
    "    return decoded_output\n",
    "\n",
    "\n",
    "# result = generate_output(\"The patient presents with a chief complaint of Skin rash may be this disease comes from friends or family. Symptoms reported include Feeling of nausea, with occasional vomiting. After discussing patient medical history and current symptoms, it seems likely that patient is experiencing this problem a long ago. Ultrasound of the abdomen, Blood test for amylase, Differential leucocyte count (dlc),   these investigation test you have to do. For treatment, Prednisolone 10 mg, Topiramate 50 mg were given. The patient will follow up in a week for reassessment.\")\n",
    "# result = generate_output(\"The patient presents with a history of intermittent palpitations and dizziness. A 24-hour Holter monitor is recommended to assess for any arrhythmias. Initial management includes a low-dose beta-blocker to control symptoms.\")\n",
    "# result = generate_output(\"The patient reports experiencing intermittent, sharp chest pain on the left side, radiating to the left arm, over the past month. The pain is aggravated by exertion and relieved with rest. Accompanying symptoms include shortness of breath, palpitations, and occasional dizziness. The patient has a history of hypertension, managed with lisinopril, and a 20-pack-year smoking history. No history of similar episodes, nausea, or syncope. Given the clinical presentation, the patient was advised to undergo an electrocardiogram (ECG), chest X-ray, and complete blood count (CBC) to evaluate potential cardiac and pulmonary causes. A troponin test was also recommended to rule out acute coronary syndrome. The patient was started on aspirin 81 mg daily and advised to continue lisinopril. Nitroglycerin sublingual tablets were prescribed for acute chest pain relief. Smoking cessation counseling was provided, and a follow-up appointment was scheduled for further evaluation based on investigation results.\")\n",
    "# result = generate_output(\"A 30-year-old female presents with fatigue, muscle aches, and low-grade fever for the past five days. She reports a recent history of upper respiratory infection two weeks prior, which has since resolved. On examination, her throat is mildly inflamed, and her lymph nodes are slightly enlarged. No signs of pneumonia on chest auscultation. Given the symptoms, I suspect she may be experiencing a viral syndrome or post-viral fatigue. I recommended ibuprofen for muscle pain, hydration, and rest. To rule out mononucleosis or thyroid dysfunction, I've ordered a complete blood count (CBC) and thyroid function tests. She should return if symptoms persist beyond two weeks.\")\n",
    "# result = generate_output(\"The patient, a 45-year-old male, presents with a chief complaint of intermittent chest pain for the past week. He describes the pain as a pressure-like sensation, radiating to the left arm, particularly during physical exertion. The patient has a history of hypertension, which he is managing with amlodipine. No other major comorbidities are reported. Upon examination, his vitals are stable, but an ECG reveals minor ST segment changes. My initial diagnosis is suspected angina. I've prescribed nitroglycerin sublingually for acute episodes and referred him for a stress test and lipid profile to further assess his cardiovascular risk. Follow-up in one week.\")\n",
    "\n",
    "# result = generate_output(\"Reported signs of stomach hurts, weight gain led me to order ct angiography, Absolute eosinophil count(aec), GAD - 65. The patient was prescribed medications including Metolar Injection, and PROLOMET XL 25MG TABLETS.\")\n",
    "# result = generate_output(\"A patient complains of a runny nose and sore throat for 3 days. Symptoms include sneezing, nasal congestion, mild fever, and cough. No investigations are required unless symptoms persist; a throat swab can be done to rule out bacterial infection if necessary. Treatment includes paracetamol for fever, antihistamines for congestion, and a nasal decongestant spray for relief.\")\n",
    "# result = generate_output(\"The patient presents with high-grade fever lasting 3 days. Associated symptoms include chills, body ache, and headache. Investigations such as a complete blood count (CBC), malaria antigen, typhoid, or dengue tests are advised based on local endemic conditions. Paracetamol 500mg every 6 hours for fever, hydration, and rest are recommended. Antibiotics may be considered if bacterial infection is confirmed.\")\n",
    "# result = generate_output(\"Patient is having hand pain & elbow pain. I have told him to take neospring 100 tabs. I have told him to check cbc and blood pressure.\")\n",
    "# result = generate_output(\"The patient is suffering from mild fever, body aches, and general weakness, which could be due to a common viral infection. To manage the symptoms, Dolo 650 is prescribed, one tablet every six hours as needed for fever, and Paracetamol, one tablet every six hours for pain relief. A Complete Blood Count (CBC) and Liver Function Test (LFT) are suggested to rule out any underlying conditions.\")\n",
    "\n",
    "\n",
    "# result = generate_output(\"The patient reports experiencing intermittent, sharp chest pain on the left side, radiating to the left arm, over the past month. The pain is aggravated by exertion and relieved with rest. Accompanying symptoms include shortness of breath, palpitations, and occasional dizziness. The patient has a history of hypertension, managed with lisinopril, and a 20-pack-year smoking history. No history of similar episodes, nausea, or syncope. Given the clinical presentation, the patient was advised to undergo an electrocardiogram (ECG), chest X-ray, and complete blood count (CBC) to evaluate potential cardiac and pulmonary causes. A troponin test was also recommended to rule out acute coronary syndrome. The patient was started on aspirin 81 mg daily and advised to continue lisinopril. Nitroglycerin sublingual tablets were prescribed for acute chest pain relief. Smoking cessation counseling was provided, and a follow-up appointment was scheduled for further evaluation based on investigation results.\")\n",
    "# result = generate_output(\"A patient complains of a runny nose and sore throat for 3 days. Symptoms include sneezing, nasal congestion, mild fever, and cough. No investigations are required unless symptoms persist; a throat swab can be done to rule out bacterial infection if necessary. Treatment includes paracetamol for fever, antihistamines for congestion, and a nasal decongestant spray for relief.\")\n",
    "result = generate_output(\"The patient complains of a burning sensation in the chest, particularly after meals. Symptoms include heartburn, belching, and a sour taste in the mouth. Initial investigations may not be necessary, but endoscopy is recommended if symptoms persist or worsen. Omeprazole 20mg once daily before meals and antacids as needed are prescribed.\")\n",
    "\n",
    "\n",
    "\n",
    "\n",
    "# print(type(result))\n",
    "print(result)\n",
    "\n",
    "result = result.replace(\"'\",'\"').replace(\"<\", \"{\").replace(\">\", \"}\")\n",
    "import json\n",
    "print(json.dumps(result, indent=4))"
   ]
  },
  {
   "cell_type": "code",
   "execution_count": 32,
   "metadata": {},
   "outputs": [
    {
     "name": "stdout",
     "output_type": "stream",
     "text": [
      "The patient, a 35-year-old male, presented with complaints of persistent abdominal pain, nausea, and occasional diarrhea for the past two weeks. Suspecting gastritis, I have advised a complete blood count, stool test, and an abdominal ultrasound to rule out underlying conditions. The patient has been prescribed a proton pump inhibitor for symptom relief and advised to avoid spicy foods and caffeine and alcohol, along with maintaining a bland diet. A follow-up appointment is scheduled for two weeks to review test results and monitor progress.\n",
      "'ChiefComplaint': 'The patient is experiencing persistent abdominal pain, nausea, and occasional diarrhea.', 'Symptoms': ['continuous abdominal pain', 'nausea', 'occasional diarrhea'], 'LabTest': ['gastritis'], 'Advice': ['a complete blood count','stools test', 'abdominal ultrasound'], 'FollowUp': 'A follow-up appointment is scheduled for two weeks to review test results and monitor progress.', 'Medicines': ['name': 'pron pump inhibitor for symptom relief', 'quantity': 'null', 'route': 'null', 'instruction': 'null', 'duration': 'null', 'frequency': 'null']\n",
      "\n",
      "{\n",
      "    \"ChiefComplaint\": \"The patient is experiencing persistent abdominal pain, nausea, and occasional diarrhea.\",\n",
      "    \"Symptoms\": [\n",
      "        \"continuous abdominal pain\",\n",
      "        \"nausea\",\n",
      "        \"occasional diarrhea\"\n",
      "    ],\n",
      "    \"LabTest\": [\n",
      "        \"gastritis\"\n",
      "    ],\n",
      "    \"Advice\": [\n",
      "        \"a complete blood count\",\n",
      "        \"stools test\",\n",
      "        \"abdominal ultrasound\"\n",
      "    ],\n",
      "    \"FollowUp\": \"A follow-up appointment is scheduled for two weeks to review test results and monitor progress.\",\n",
      "    \"Medicines\": [\n",
      "        {\n",
      "            \"name\": \"pron pump inhibitor for symptom relief\",\n",
      "            \"quantity\": \"null\",\n",
      "            \"route\": \"null\",\n",
      "            \"instruction\": \"null\",\n",
      "            \"duration\": \"null\",\n",
      "            \"frequency\": \"null\"\n",
      "        }\n",
      "    ]\n",
      "}\n"
     ]
    }
   ],
   "source": [
    "import torch\n",
    "from transformers import T5Tokenizer, T5ForConditionalGeneration, AutoTokenizer, AutoModelForSeq2SeqLM\n",
    "\n",
    "device = torch.device('cuda' if torch.cuda.is_available() else 'cpu')\n",
    "# tokenizer = AutoTokenizer.from_pretrained('./t5-segregate-tokenizer-16dec')\n",
    "# model = AutoModelForSeq2SeqLM.from_pretrained('./t5-segregate-model-16dec').to(device)\n",
    "# tokenizer = AutoTokenizer.from_pretrained('./t5-segregate-tokenizer-19dec')\n",
    "# model = AutoModelForSeq2SeqLM.from_pretrained('./t5-segregate-model-19dec').to(device)\n",
    "# tokenizer = AutoTokenizer.from_pretrained('./t5-segregate-tokenizer-20dec')\n",
    "# model = AutoModelForSeq2SeqLM.from_pretrained('./t5-segregate-model-20dec').to(device)\n",
    "\n",
    "\n",
    "def generate_output(paragraph):\n",
    "    print(paragraph)\n",
    "    paragraph = paragraph.replace(\"'\", \"\")\n",
    "    inputs = tokenizer(paragraph, return_tensors='pt', truncation=True, padding='max_length', max_length=256).to(device)\n",
    "    outputs = model.generate(**inputs, max_length=512, num_beams=2, early_stopping=True)\n",
    "    decoded_output = tokenizer.decode(outputs[0], skip_special_tokens=True)\n",
    "    return decoded_output\n",
    "\n",
    "\n",
    "# result = generate_output(\"The patient presents with low back pain lasting a week, worsened by sitting or bending. Symptoms include stiffness and radiating pain to the leg. Investigations such as an X-ray are recommended if trauma is involved, while an MRI may be needed for suspected radiculopathy. Treatment involves NSAIDs, muscle relaxants, and physiotherapy exercises.\")\n",
    "# result = generate_output(\"The patient is suffering from severe headache, nausea, and sensitivity to light. A brain MRI and blood sugar test have been recommended. The patient is prescribed ibuprofen 400 mg, 15 tablets, to be taken with food twice daily, and anti-nausea tablets (ondansetron), 10 tablets, as needed. He is advised to avoid bright lights, stay hydrated, and follow a regular sleep schedule. The next visit is planned in 10 days.\")\n",
    "\n",
    "# result = generate_output(\"The patient complains of abdominal pain, bloating, and constipation for the past week. He is advised to undergo an abdominal ultrasound, stool test, and thyroid function test. He has been prescribed a laxative syrup, 10 ml at bedtime, and antacid tablets, 15 tablets, to be taken before meals. He is advised to eat fiber-rich foods, drink warm water, and avoid spicy meals. A follow-up appointment is set for two weeks later.\")\n",
    "# result = generate_output(\"The patient reports cold, throat irritation, and mild fever for three days.The patient is prescribed cetirizine 10 mg, 10 tablets, to be taken at night, and paracetamol 500 mg, 15 tablets, as needed for fever after food day and night. A throat swab and CBC have been recommended. He is advised to drink warm water, consume soups, and rest adequately. The next visit is scheduled in one week.\")\n",
    "# result = generate_output(\"The patient presents with persistent coughing, chest congestion, and difficulty breathing. A chest X-ray and sputum test are recommended. The patient is prescribed an expectorant syrup, 2 teaspoons three times daily, and an antibiotic course of amoxicillin 500 mg, 15 capsules, to be taken after meals. He is advised to avoid cold drinks, inhale steam twice daily, and stay hydrated. A follow-up is planned in two weeks.\")\n",
    "# result = generate_output(\"A routine consultation for hypertension management. The patient mentions occasional dizziness and headaches. Blood pressure monitoring, kidney function tests, and a lipid profile are advised. Medication adjustments might be needed; ensure adherence to current antihypertensives and reinforce lifestyle changes like a low-sodium diet.\")\n",
    "# result = generate_output(\"The patient, a 60-year-old male, presented with complaints of swelling in his legs, fatigue, and shortness of breath over the past three weeks. He has a history of hypertension, controlled with medication, and is a former smoker with a 20-year smoking history. His physical examination revealed pitting edema in both legs and crackles upon auscultation of the lungs. His blood pressure was elevated at 160/100 mmHg, and his pulse was irregular at 110 bpm. Given the possibility of heart failure or pulmonary hypertension, I have ordered a chest X-ray, echocardiogram, and BNP blood test to assess heart function. I have also recommended adjusting his current antihypertensive medication and adding a diuretic to manage the fluid retention. The patient has been advised to restrict salt intake and monitor his weight daily to track fluid accumulation. He has been scheduled for a follow-up in one week to review test results and assess his response to the treatment. If his condition does not improve, we may consider referring him to a cardiologist for further evaluation.\")\n",
    "# result = generate_output(\"Ram is having some problems cold & stomach pain & head pain, told him to take dolo 650mg after food daily morning for 10 days, paracetamol daily mornig, nigth and noon, olmessar 10 tablets. A cbc and lft are suggested to do. Properly hydrate your body regularly. Your next checkup date will be on december 30.\")\n",
    "# result = generate_output(\"A patient complains of a runny nose and sore throat for 3 days. Symptoms include sneezing, nasal congestion, mild fever, and cough. No investigations are required unless symptoms persist; a throat swab can be done to rule out bacterial infection if necessary. Treatment includes paracetamol for fever, antihistamines for congestion, and a nasal decongestant spray for relief.\")\n",
    "# result = generate_output(\"The patient complains of a burning sensation in the chest, particularly after meals. Symptoms include heartburn, belching, and a sour taste in the mouth. Initial investigations may not be necessary, but endoscopy is recommended if symptoms persist or worsen. Properly hydrate your body regularly. And don't eat any junk food. Your next checkup date will be on december 30. Omeprazole 20mg once daily before meals and antacids as needed are prescribed.\")\n",
    "result = generate_output(\"The patient, a 35-year-old male, presented with complaints of persistent abdominal pain, nausea, and occasional diarrhea for the past two weeks. Suspecting gastritis, I have advised a complete blood count, stool test, and an abdominal ultrasound to rule out underlying conditions. The patient has been prescribed a proton pump inhibitor for symptom relief and advised to avoid spicy foods and caffeine and alcohol, along with maintaining a bland diet. A follow-up appointment is scheduled for two weeks to review test results and monitor progress.\")\n",
    "# result = generate_output(\"The patient, a 60-year-old female, reported frequent urination, increased thirst, and fatigue over the last month, raising suspicion of diabetes. A fasting blood sugar, HbA1c, and urine test were recommended, and the patient was prescribed metformin to manage blood sugar levels. Lifestyle changes, including a low-carb diet and daily exercise, were advised, with a follow-up in two weeks.\")\n",
    "\n",
    "\n",
    "print(result)\n",
    "print()\n",
    "import re\n",
    "import json\n",
    "\n",
    "def parse_input_to_json(input_text):\n",
    "    # Replace single quotes with double quotes\n",
    "    input_text = re.sub(r\"'([^']*)'\", r'\"\\1\"', input_text)\n",
    "\n",
    "    # Extract medicine content\n",
    "    # medicine_match = re.search(r'\"medicine\": \\[(.*?)\\]', input_text)\n",
    "    medicine_match = re.search(r'\"Medicines\": \\[(.*?)\\]', input_text)\n",
    "    if medicine_match:\n",
    "        medicine_content = medicine_match.group(1)\n",
    "\n",
    "        # Initialize variables\n",
    "        medicine_list = []\n",
    "        current_dict = {}\n",
    "        keys = [\"name\", \"quantity\", \"route\", \"instruction\", \"duration\", \"frequency\"]\n",
    "\n",
    "        # Find all key-value pairs\n",
    "        key_value_pairs = re.findall(r'(\"name\"|\"quantity\"|\"route\"|\"instruction\"|\"duration\"|\"frequency\"): (\"[^\"]*\"|null)', medicine_content)\n",
    "        for key, value in key_value_pairs:\n",
    "            # Clean key and value\n",
    "            # print(value)\n",
    "            key = key.strip('\"')\n",
    "            value = value.strip('\"') if value != \"null\" else None\n",
    "\n",
    "            # Add to the current dictionary\n",
    "            if key in current_dict:\n",
    "                # If the key already exists, start a new dictionary\n",
    "                medicine_list.append(current_dict)\n",
    "                current_dict = {}\n",
    "\n",
    "            current_dict[key] = value\n",
    "\n",
    "            # If all keys are present, save the dictionary and start a new one\n",
    "            if len(current_dict) == len(keys):\n",
    "                medicine_list.append(current_dict)\n",
    "                current_dict = {}\n",
    "\n",
    "        # Add the last dictionary if not empty\n",
    "        if current_dict:\n",
    "            medicine_list.append(current_dict)\n",
    "\n",
    "        # Replace the medicine content in the original input\n",
    "        input_text = re.sub(r'\"Medicines\": \\[.*?\\]', f'\"Medicines\": {json.dumps(medicine_list)}', input_text)\n",
    "        # input_text = re.sub(r'\"medicine\": \\[.*?\\]', f'\"medicine\": {json.dumps(medicine_list)}', input_text)\n",
    "        # print(input_text[len(input_text) - 3:])\n",
    "        input_text.replace(\": nan\", ': null')\n",
    "\n",
    "    # Convert the entire input into JSON\n",
    "    try:\n",
    "        structured_data = json.loads(\"{\" + input_text + \"}\")\n",
    "        return structured_data\n",
    "    except json.JSONDecodeError as e:\n",
    "        print(f\"Error parsing JSON: {e}\")\n",
    "        return None\n",
    "\n",
    "structured_data = parse_input_to_json(result)\n",
    "if structured_data:\n",
    "    print(json.dumps(structured_data, indent=4))\n"
   ]
  },
  {
   "cell_type": "code",
   "execution_count": 22,
   "metadata": {},
   "outputs": [
    {
     "name": "stdout",
     "output_type": "stream",
     "text": [
      "Original Input:\n",
      "'ChiefComplaint': 'The patient is experiencing cold, throat irritation, and mild fever for three days.', 'Symptoms': ['cold', 'throat irritation','mild fever'], 'LabTest': ['a throat swab', 'CBC'], 'Advice': ['Drink warm water, consume soups, and rest adequately.'], 'FollowUp': 'The next visit is scheduled in one week.', 'Medicines': ['name': 'cetizine 10 mg', 'quantity': '10', 'route': 'null', 'instruction': 'null', 'duration': 'null', 'frequency': '0-0-1', 'name': 'paracetamol 500 mg', 'quantity': '15', 'route': 'null', 'instruction': 'after food', 'duration': 'null', 'frequency': '1-0-1']\n",
      "\n",
      "After Replacing Single Quotes:\n",
      "\"ChiefComplaint\": \"The patient is experiencing cold, throat irritation, and mild fever for three days.\", \"Symptoms\": [\"cold\", \"throat irritation\",\"mild fever\"], \"LabTest\": [\"a throat swab\", \"CBC\"], \"Advice\": [\"Drink warm water, consume soups, and rest adequately.\"], \"FollowUp\": \"The next visit is scheduled in one week.\", \"Medicines\": [\"name\": \"cetizine 10 mg\", \"quantity\": \"10\", \"route\": \"null\", \"instruction\": \"null\", \"duration\": \"null\", \"frequency\": \"0-0-1\", \"name\": \"paracetamol 500 mg\", \"quantity\": \"15\", \"route\": \"null\", \"instruction\": \"after food\", \"duration\": \"null\", \"frequency\": \"1-0-1\"]\n",
      "\n",
      "Extracted Medicines Content:\n",
      "\"name\": \"cetizine 10 mg\", \"quantity\": \"10\", \"route\": \"null\", \"instruction\": \"null\", \"duration\": \"null\", \"frequency\": \"0-0-1\", \"name\": \"paracetamol 500 mg\", \"quantity\": \"15\", \"route\": \"null\", \"instruction\": \"after food\", \"duration\": \"null\", \"frequency\": \"1-0-1\"\n",
      "\n",
      "Key-Value Pairs in Medicines:\n",
      "[('name', 'cetizine 10 mg'), ('quantity', '10'), ('route', 'null'), ('instruction', 'null'), ('duration', 'null'), ('frequency', '0-0-1'), ('name', 'paracetamol 500 mg'), ('quantity', '15'), ('route', 'null'), ('instruction', 'after food'), ('duration', 'null'), ('frequency', '1-0-1')]\n",
      "\n",
      "Parsed Medicines List:\n",
      "[{'name': 'cetizine 10 mg', 'quantity': '10', 'route': None, 'instruction': None, 'duration': None, 'frequency': '0-0-1'}, {'name': 'paracetamol 500 mg', 'quantity': '15', 'route': None, 'instruction': 'after food', 'duration': None, 'frequency': '1-0-1'}]\n",
      "\n",
      "After Replacing Medicines Section:\n",
      "\"ChiefComplaint\": \"The patient is experiencing cold, throat irritation, and mild fever for three days.\", \"Symptoms\": [\"cold\", \"throat irritation\",\"mild fever\"], \"LabTest\": [\"a throat swab\", \"CBC\"], \"Advice\": [\"Drink warm water, consume soups, and rest adequately.\"], \"FollowUp\": \"The next visit is scheduled in one week.\", \"Medicines\": [{\"name\": \"cetizine 10 mg\", \"quantity\": \"10\", \"route\": null, \"instruction\": null, \"duration\": null, \"frequency\": \"0-0-1\"}, {\"name\": \"paracetamol 500 mg\", \"quantity\": \"15\", \"route\": null, \"instruction\": \"after food\", \"duration\": null, \"frequency\": \"1-0-1\"}]\n",
      "{\n",
      "    \"ChiefComplaint\": \"The patient is experiencing cold, throat irritation, and mild fever for three days.\",\n",
      "    \"Symptoms\": [\n",
      "        \"cold\",\n",
      "        \"throat irritation\",\n",
      "        \"mild fever\"\n",
      "    ],\n",
      "    \"LabTest\": [\n",
      "        \"a throat swab\",\n",
      "        \"CBC\"\n",
      "    ],\n",
      "    \"Advice\": [\n",
      "        \"Drink warm water, consume soups, and rest adequately.\"\n",
      "    ],\n",
      "    \"FollowUp\": \"The next visit is scheduled in one week.\",\n",
      "    \"Medicines\": [\n",
      "        {\n",
      "            \"name\": \"cetizine 10 mg\",\n",
      "            \"quantity\": \"10\",\n",
      "            \"route\": null,\n",
      "            \"instruction\": null,\n",
      "            \"duration\": null,\n",
      "            \"frequency\": \"0-0-1\"\n",
      "        },\n",
      "        {\n",
      "            \"name\": \"paracetamol 500 mg\",\n",
      "            \"quantity\": \"15\",\n",
      "            \"route\": null,\n",
      "            \"instruction\": \"after food\",\n",
      "            \"duration\": null,\n",
      "            \"frequency\": \"1-0-1\"\n",
      "        }\n",
      "    ]\n",
      "}\n"
     ]
    }
   ],
   "source": [
    "\n",
    "\n",
    "def parse_input_to_json(input_text):\n",
    "    print(\"Original Input:\")\n",
    "    print(input_text)  # Debug input text\n",
    "\n",
    "    # Step 1: Replace single quotes with double quotes\n",
    "    input_text = re.sub(r\"'([^']*)'\", r'\"\\1\"', input_text)\n",
    "    print(\"\\nAfter Replacing Single Quotes:\")\n",
    "    print(input_text)  # Debug step 1\n",
    "\n",
    "    # Step 2: Handle Medicines list\n",
    "\n",
    "    medicines_match = re.search(r'\"Medicines\": \\[(.*?)\\]', input_text, re.DOTALL)\n",
    "    # medicines_match = re.search(r'\"medicine\": \\[(.*?)\\]', input_text, re.DOTALL)\n",
    "    if medicines_match:\n",
    "        print(\"\\nExtracted Medicines Content:\")\n",
    "        print(medicines_match.group(1))  # Debug extracted Medicines section\n",
    "        \n",
    "        medicine_content = medicines_match.group(1)\n",
    "\n",
    "        # Extract key-value pairs\n",
    "        # Use regex to extract key-value pairs for Medicines\n",
    "        key_value_pairs = re.findall(r'\"(name|quantity|route|instruction|duration|frequency)\":\\s*\"([^\"]*|null)\"', medicine_content)\n",
    "        print(\"\\nKey-Value Pairs in Medicines:\")\n",
    "        print(key_value_pairs)  # Debug key-value pairs\n",
    "\n",
    "        # Build list of dictionaries for Medicines\n",
    "        medicines_list = []\n",
    "        current_medicine = {}\n",
    "        keys = [\"name\", \"quantity\", \"route\", \"instruction\", \"duration\", \"frequency\"]\n",
    "\n",
    "        for key, value in key_value_pairs:\n",
    "            current_medicine[key] = value if value != \"null\" else None\n",
    "\n",
    "            # When all keys are captured, append to the list and reset\n",
    "            if len(current_medicine) == len(keys):\n",
    "                medicines_list.append(current_medicine)\n",
    "                current_medicine = {}\n",
    "\n",
    "        print(\"\\nParsed Medicines List:\")\n",
    "        print(medicines_list)  # Debug final list\n",
    "\n",
    "        # Replace the Medicines part with the fixed JSON list\n",
    "        \n",
    "        input_text = re.sub(r'\"Medicines\": \\[.*?\\]', f'\"Medicines\": {json.dumps(medicines_list)}', input_text, flags=re.DOTALL)\n",
    "        # input_text = re.sub(r'\"medicine\": \\[.*?\\]', f'\"medicine\": {json.dumps(medicines_list)}', input_text, flags=re.DOTALL)\n",
    "        print(\"\\nAfter Replacing Medicines Section:\")\n",
    "        print(input_text)  # Debug updated text\n",
    "\n",
    "    # Step 3: Parse the JSON\n",
    "    try:\n",
    "        structured_data = json.loads(\"{\" + input_text + \"}\")\n",
    "        return structured_data\n",
    "    except json.JSONDecodeError as e:\n",
    "        print(f\"Error parsing JSON: {e}\")\n",
    "        return None\n",
    "\n",
    "\n",
    "structured_data = parse_input_to_json(result)\n",
    "if structured_data:\n",
    "    print(json.dumps(structured_data, indent=4))"
   ]
  },
  {
   "cell_type": "code",
   "execution_count": null,
   "metadata": {},
   "outputs": [],
   "source": []
  },
  {
   "cell_type": "code",
   "execution_count": null,
   "metadata": {},
   "outputs": [],
   "source": []
  },
  {
   "cell_type": "markdown",
   "metadata": {},
   "source": [
    "Input ==>\n",
    "\"The patient complains of a burning sensation in the chest, particularly after meals. Symptoms include heartburn, belching, and a sour taste in the mouth. Initial investigations may not be necessary, but endoscopy is recommended if symptoms persist or worsen. Omeprazole 20mg once daily before meals and antacids as needed are prescribed.\"\n",
    "\n",
    "\n",
    "Output ==>\n",
    "\"chiefComplaint\": \"The patient is experiencing a burning sensation in the chest, and heartburn, belching, and a sour taste in the mouth.\", \"symptoms\": [\"burning sensation in the chest\", \"belching\", \"a sour taste in the mouth\"], \n",
    "\"tests\": [\"endoscopy\"], \n",
    "\"medicine\": [\"name\": \"omeprazole 20mg\", \"quantity\": \"null\", \"route\": \"null\", \"instruction\": \"before meals\", \"duration\": \"1 days\", \"frequency\": \"1-0-0\"]\n",
    "\n",
    "\n",
    "\n",
    "Input ==>\n",
    "\"The patient reports experiencing intermittent, sharp chest pain on the left side, radiating to the left arm, over the past month. The pain is aggravated by exertion and relieved with rest. Accompanying symptoms include shortness of breath, palpitations, and occasional dizziness. The patient has a history of hypertension, managed with lisinopril, and a 20-pack-year smoking history. No history of similar episodes, nausea, or syncope. Given the clinical presentation, the patient was advised to undergo an electrocardiogram (ECG), chest X-ray, and complete blood count (CBC) to evaluate potential cardiac and pulmonary causes. A troponin test was also recommended to rule out acute coronary syndrome. The patient was started on aspirin 81 mg daily and advised to continue lisinopril. Nitroglycerin sublingual tablets were prescribed for acute chest pain relief. Smoking cessation counseling was provided, and a follow-up appointment was scheduled for further evaluation based on investigation results.\"\n",
    "\n",
    "\n",
    "output ==>D\n",
    "\"chiefComplaint\": \"The patient is experiencing intermittent, sharp chest pain on the left side, radiating to the left arm, and shortness of breath.\", \n",
    "\"symptoms\": [\"intermittent, sharp chest pain on the left side\", \"palpitations\", \"occasional dizziness\"],\n",
    "\"tests\": [\"electrocardiogram (ECG)\", \"chest X-ray\", \"complete blood count (CBC)\"], \n",
    "\"medicine\": [\"name\": \"aspirin 81 mg daily\", \"quantity\": \"20\", \"route\": \"oral\", \"instruction\": \"null\", \"duration\": \"20 days\", \"frequency\": \"1-0-0\"]\n",
    "\n",
    "\n",
    "Input ==>\n",
    "\"The patient presents with low back pain lasting a week, worsened by sitting or bending. Symptoms include stiffness and radiating pain to the leg. Investigations such as an X-ray are recommended if trauma is involved, while an MRI may be needed for suspected radiculopathy. Treatment involves NSAIDs, muscle relaxants, and physiotherapy exercises.\"\n",
    "\n",
    "\n",
    "output ==>\n",
    "\"chiefComplaint\": \"The patient is experiencing low back pain, worsened by sitting or bending, and shaky.\", \n",
    "\"symptoms\": [\"low back pain\", \"stiffness\", \"radiating pain\"], \n",
    "\"tests\": [\"an X-ray\"], \n",
    "\"medicine\": [\"name\": \"NSAIDs\", \"quantity\": \"null\", \"route\": \"null\", \"instruction\": \"null\", \"duration\": \"1 days\", \"frequency\": \"null\"]"
   ]
  },
  {
   "cell_type": "code",
   "execution_count": 23,
   "metadata": {},
   "outputs": [],
   "source": [
    "# dm_js = json.dumps(result)\n",
    "# dm_js = dm_js.replace('\\\\\"', '\"')\n",
    "# dm_js = dm_js.replace(\"'\", '\"')\n",
    "# dm_js"
   ]
  },
  {
   "cell_type": "code",
   "execution_count": 24,
   "metadata": {},
   "outputs": [
    {
     "name": "stdout",
     "output_type": "stream",
     "text": [
      "['▁', '<', 'STAR', 'T', '_', 'J', 'SON', '>', '▁Hi', ',', '▁I', '▁am', '▁', 'a', '▁', '{', 'Rob', 'o', 't', '}', '▁', '<', 'END', '_', 'J', 'SON', '>']\n"
     ]
    }
   ],
   "source": [
    "# print(len(tokenizer.vocab.keys()))\n",
    "\n",
    "print(tokenizer.tokenize(\"<START_JSON> Hi, I am a {Robot} <END_JSON>\"))"
   ]
  },
  {
   "cell_type": "code",
   "execution_count": 25,
   "metadata": {
    "id": "-2ExmdrS3Dpb"
   },
   "outputs": [
    {
     "data": {
      "text/plain": [
       "'\\n\\nThe patient reports experiencing intermittent, sharp chest pain on the left side, radiating to the left arm, over the past month. \\nThe pain is aggravated by exertion and relieved with rest. Accompanying symptoms include shortness of breath, palpitations, and occasional \\ndizziness. The patient has a history of hypertension, managed with lisinopril, and a 20-pack-year smoking history. No history of similar \\nepisodes, nausea, or syncope. Given the clinical presentation, the patient was advised to undergo an electrocardiogram (ECG), \\nchest X-ray, and complete blood count (CBC) to evaluate potential cardiac and pulmonary causes. A troponin test was also recommended to \\nrule out acute coronary syndrome. The patient was started on aspirin 81 mg daily and advised to continue lisinopril. Nitroglycerin \\nsublingual tablets were prescribed for acute chest pain relief. Smoking cessation counseling was provided, and a follow-up appointment was \\nscheduled for further evaluation based on investigation results.\\n\\n\\n'"
      ]
     },
     "execution_count": 25,
     "metadata": {},
     "output_type": "execute_result"
    }
   ],
   "source": [
    "\"\"\"\n",
    "\n",
    "The patient reports experiencing intermittent, sharp chest pain on the left side, radiating to the left arm, over the past month. \n",
    "The pain is aggravated by exertion and relieved with rest. Accompanying symptoms include shortness of breath, palpitations, and occasional \n",
    "dizziness. The patient has a history of hypertension, managed with lisinopril, and a 20-pack-year smoking history. No history of similar \n",
    "episodes, nausea, or syncope. Given the clinical presentation, the patient was advised to undergo an electrocardiogram (ECG), \n",
    "chest X-ray, and complete blood count (CBC) to evaluate potential cardiac and pulmonary causes. A troponin test was also recommended to \n",
    "rule out acute coronary syndrome. The patient was started on aspirin 81 mg daily and advised to continue lisinopril. Nitroglycerin \n",
    "sublingual tablets were prescribed for acute chest pain relief. Smoking cessation counseling was provided, and a follow-up appointment was \n",
    "scheduled for further evaluation based on investigation results.\n",
    "\n",
    "\n",
    "\"\"\""
   ]
  },
  {
   "cell_type": "code",
   "execution_count": 26,
   "metadata": {
    "id": "aa1TrvjKgfA8"
   },
   "outputs": [],
   "source": [
    "# !pip install optimum\n",
    "# !pip install onnx onnxruntime\n",
    "# !pip install optimum[onnxruntime]\n"
   ]
  },
  {
   "cell_type": "code",
   "execution_count": 27,
   "metadata": {},
   "outputs": [],
   "source": [
    "# import onnxruntime as ort\n",
    "# from transformers import AutoTokenizer\n",
    "# from transformers import T5Tokenizer, T5ForConditionalGeneration\n",
    "# import numpy as np\n",
    "# from optimum.onnxruntime import ORTModelForSeq2SeqLM\n",
    "\n",
    "\n",
    "# # model = ORTModelForSeq2SeqLM.from_pretrained(\"./t5-segregate-model-20sept\", from_transformers=True)\n",
    "# model = ORTModelForSeq2SeqLM.from_pretrained(\"./t5-segregate-model-20sept\", export=True)\n",
    "# # model.save_pretrained(\"optimized_model\")\n",
    "# model.save_pretrained(\"./tmp/onnx/\")\n",
    "# tokenizer = AutoTokenizer.from_pretrained(pretrained_model_name_or_path=r\"C:\\Users\\jites\\Desktop\\Project_folder\\Jupyter_practice\\jupyter\\t5-segregate-tokenizer-2oct\")\n",
    "# # tokenizer = T5Tokenizer.from_pretrained('./t5-segregate-tokenizer-20sept')\n",
    "\n",
    "# # Load ONNX runtime sessions\n",
    "# encoder_session = ort.InferenceSession(\"./tmp/onnx/encoder_model.onnx\")\n",
    "# decoder_session = ort.InferenceSession(\"./tmp/onnx/decoder_model.onnx\")\n",
    "# decoder_with_past_session = ort.InferenceSession(\"./tmp/onnx/decoder_with_past_model.onnx\")\n",
    "\n",
    "# # input_text = \"Translate English to French: How are you?\"\n",
    "# input_text = \"The patient, a 45-year-old male, presents with a chief complaint of intermittent chest pain for the past week. He describes the pain as a pressure-like sensation, radiating to the left arm, particularly during physical exertion. The patient has a history of hypertension, which he is managing with amlodipine. No other major comorbidities are reported. Upon examination, his vitals are stable, but an ECG reveals minor ST segment changes. My initial diagnosis is suspected angina. I've prescribed nitroglycerin sublingually for acute episodes and referred him for a stress test and lipid profile to further assess his cardiovascular risk. Follow-up in one week.\"\n",
    "\n",
    "# # Tokenize the input\n",
    "# inputs = tokenizer(input_text, return_tensors=\"np\", padding=True)\n",
    "\n",
    "# # Convert inputs to int64\n",
    "# input_ids = inputs[\"input_ids\"].astype(np.int64)\n",
    "# attention_mask = inputs[\"attention_mask\"].astype(np.int64)\n",
    "\n",
    "# # Encoder inference\n",
    "# encoder_outputs = encoder_session.run(\n",
    "#     None, {\"input_ids\": input_ids, \"attention_mask\": attention_mask}\n",
    "# )\n",
    "\n",
    "# # Prepare decoder inputs\n",
    "# decoder_input_ids = tokenizer(\"<pad>\", return_tensors=\"np\")[\"input_ids\"]\n",
    "\n",
    "# # Decoder inference\n",
    "# decoder_outputs = decoder_session.run(\n",
    "#     None,\n",
    "#     {\n",
    "#         \"input_ids\": decoder_input_ids.astype(np.int64),\n",
    "#         \"encoder_hidden_states\": encoder_outputs[0],\n",
    "#         \"encoder_attention_mask\": attention_mask,\n",
    "#     },\n",
    "# )\n",
    "\n",
    "# # output_text = tokenizer.decode(decoder_outputs[0][0], skip_special_tokens=True)\n",
    "# # print(output_text)\n",
    "\n",
    "# decoded_token_lst_ids = np.argmax(decoder_outputs[0], axis=-1)\n",
    "# decoded_token_lst_ids = decoded_token_lst_ids[0].tolist()\n",
    "# # decoded_token_lst_ids = decoder_outputs[0].tolist()[0]\n",
    "# output_text = tokenizer.decode(decoded_token_lst_ids, skip_special_tokens=True)\n",
    "# print(output_text)"
   ]
  },
  {
   "cell_type": "code",
   "execution_count": null,
   "metadata": {},
   "outputs": [],
   "source": []
  }
 ],
 "metadata": {
  "colab": {
   "authorship_tag": "ABX9TyN/8rJkHucAwL2GhkTq0dm2",
   "provenance": []
  },
  "kernelspec": {
   "display_name": "gpu_env",
   "language": "python",
   "name": "python3"
  },
  "language_info": {
   "codemirror_mode": {
    "name": "ipython",
    "version": 3
   },
   "file_extension": ".py",
   "mimetype": "text/x-python",
   "name": "python",
   "nbconvert_exporter": "python",
   "pygments_lexer": "ipython3",
   "version": "3.11.9"
  },
  "widgets": {
   "application/vnd.jupyter.widget-state+json": {
    "06a9c5ea114c48faac3c876e28716e41": {
     "model_module": "@jupyter-widgets/base",
     "model_module_version": "1.2.0",
     "model_name": "LayoutModel",
     "state": {
      "_model_module": "@jupyter-widgets/base",
      "_model_module_version": "1.2.0",
      "_model_name": "LayoutModel",
      "_view_count": null,
      "_view_module": "@jupyter-widgets/base",
      "_view_module_version": "1.2.0",
      "_view_name": "LayoutView",
      "align_content": null,
      "align_items": null,
      "align_self": null,
      "border": null,
      "bottom": null,
      "display": null,
      "flex": null,
      "flex_flow": null,
      "grid_area": null,
      "grid_auto_columns": null,
      "grid_auto_flow": null,
      "grid_auto_rows": null,
      "grid_column": null,
      "grid_gap": null,
      "grid_row": null,
      "grid_template_areas": null,
      "grid_template_columns": null,
      "grid_template_rows": null,
      "height": null,
      "justify_content": null,
      "justify_items": null,
      "left": null,
      "margin": null,
      "max_height": null,
      "max_width": null,
      "min_height": null,
      "min_width": null,
      "object_fit": null,
      "object_position": null,
      "order": null,
      "overflow": null,
      "overflow_x": null,
      "overflow_y": null,
      "padding": null,
      "right": null,
      "top": null,
      "visibility": null,
      "width": null
     }
    },
    "0a6e5a6c0fc242c288ed2c46230fdeec": {
     "model_module": "@jupyter-widgets/base",
     "model_module_version": "1.2.0",
     "model_name": "LayoutModel",
     "state": {
      "_model_module": "@jupyter-widgets/base",
      "_model_module_version": "1.2.0",
      "_model_name": "LayoutModel",
      "_view_count": null,
      "_view_module": "@jupyter-widgets/base",
      "_view_module_version": "1.2.0",
      "_view_name": "LayoutView",
      "align_content": null,
      "align_items": null,
      "align_self": null,
      "border": null,
      "bottom": null,
      "display": null,
      "flex": null,
      "flex_flow": null,
      "grid_area": null,
      "grid_auto_columns": null,
      "grid_auto_flow": null,
      "grid_auto_rows": null,
      "grid_column": null,
      "grid_gap": null,
      "grid_row": null,
      "grid_template_areas": null,
      "grid_template_columns": null,
      "grid_template_rows": null,
      "height": null,
      "justify_content": null,
      "justify_items": null,
      "left": null,
      "margin": null,
      "max_height": null,
      "max_width": null,
      "min_height": null,
      "min_width": null,
      "object_fit": null,
      "object_position": null,
      "order": null,
      "overflow": null,
      "overflow_x": null,
      "overflow_y": null,
      "padding": null,
      "right": null,
      "top": null,
      "visibility": null,
      "width": null
     }
    },
    "0b66ca60a9064cfcb10af1c2c2739eb2": {
     "model_module": "@jupyter-widgets/controls",
     "model_module_version": "1.5.0",
     "model_name": "DescriptionStyleModel",
     "state": {
      "_model_module": "@jupyter-widgets/controls",
      "_model_module_version": "1.5.0",
      "_model_name": "DescriptionStyleModel",
      "_view_count": null,
      "_view_module": "@jupyter-widgets/base",
      "_view_module_version": "1.2.0",
      "_view_name": "StyleView",
      "description_width": ""
     }
    },
    "0c4fd6742a81405faa567b11fa9f9f0b": {
     "model_module": "@jupyter-widgets/base",
     "model_module_version": "1.2.0",
     "model_name": "LayoutModel",
     "state": {
      "_model_module": "@jupyter-widgets/base",
      "_model_module_version": "1.2.0",
      "_model_name": "LayoutModel",
      "_view_count": null,
      "_view_module": "@jupyter-widgets/base",
      "_view_module_version": "1.2.0",
      "_view_name": "LayoutView",
      "align_content": null,
      "align_items": null,
      "align_self": null,
      "border": null,
      "bottom": null,
      "display": null,
      "flex": null,
      "flex_flow": null,
      "grid_area": null,
      "grid_auto_columns": null,
      "grid_auto_flow": null,
      "grid_auto_rows": null,
      "grid_column": null,
      "grid_gap": null,
      "grid_row": null,
      "grid_template_areas": null,
      "grid_template_columns": null,
      "grid_template_rows": null,
      "height": null,
      "justify_content": null,
      "justify_items": null,
      "left": null,
      "margin": null,
      "max_height": null,
      "max_width": null,
      "min_height": null,
      "min_width": null,
      "object_fit": null,
      "object_position": null,
      "order": null,
      "overflow": null,
      "overflow_x": null,
      "overflow_y": null,
      "padding": null,
      "right": null,
      "top": null,
      "visibility": null,
      "width": null
     }
    },
    "142621ea85fd41f6938857126965fd58": {
     "model_module": "@jupyter-widgets/controls",
     "model_module_version": "1.5.0",
     "model_name": "FloatProgressModel",
     "state": {
      "_dom_classes": [],
      "_model_module": "@jupyter-widgets/controls",
      "_model_module_version": "1.5.0",
      "_model_name": "FloatProgressModel",
      "_view_count": null,
      "_view_module": "@jupyter-widgets/controls",
      "_view_module_version": "1.5.0",
      "_view_name": "ProgressView",
      "bar_style": "success",
      "description": "",
      "description_tooltip": null,
      "layout": "IPY_MODEL_0c4fd6742a81405faa567b11fa9f9f0b",
      "max": 100,
      "min": 0,
      "orientation": "horizontal",
      "style": "IPY_MODEL_81ed8137b8534155a015c06d7e46cca5",
      "value": 100
     }
    },
    "1646c2a2210240d7bd40c854fe514050": {
     "model_module": "@jupyter-widgets/base",
     "model_module_version": "1.2.0",
     "model_name": "LayoutModel",
     "state": {
      "_model_module": "@jupyter-widgets/base",
      "_model_module_version": "1.2.0",
      "_model_name": "LayoutModel",
      "_view_count": null,
      "_view_module": "@jupyter-widgets/base",
      "_view_module_version": "1.2.0",
      "_view_name": "LayoutView",
      "align_content": null,
      "align_items": null,
      "align_self": null,
      "border": null,
      "bottom": null,
      "display": null,
      "flex": null,
      "flex_flow": null,
      "grid_area": null,
      "grid_auto_columns": null,
      "grid_auto_flow": null,
      "grid_auto_rows": null,
      "grid_column": null,
      "grid_gap": null,
      "grid_row": null,
      "grid_template_areas": null,
      "grid_template_columns": null,
      "grid_template_rows": null,
      "height": null,
      "justify_content": null,
      "justify_items": null,
      "left": null,
      "margin": null,
      "max_height": null,
      "max_width": null,
      "min_height": null,
      "min_width": null,
      "object_fit": null,
      "object_position": null,
      "order": null,
      "overflow": null,
      "overflow_x": null,
      "overflow_y": null,
      "padding": null,
      "right": null,
      "top": null,
      "visibility": null,
      "width": null
     }
    },
    "1b1448bc177c44d190143d7daeefcc31": {
     "model_module": "@jupyter-widgets/controls",
     "model_module_version": "1.5.0",
     "model_name": "DescriptionStyleModel",
     "state": {
      "_model_module": "@jupyter-widgets/controls",
      "_model_module_version": "1.5.0",
      "_model_name": "DescriptionStyleModel",
      "_view_count": null,
      "_view_module": "@jupyter-widgets/base",
      "_view_module_version": "1.2.0",
      "_view_name": "StyleView",
      "description_width": ""
     }
    },
    "1b7ad0c7397b4084b9956844b2df8c45": {
     "model_module": "@jupyter-widgets/controls",
     "model_module_version": "1.5.0",
     "model_name": "HTMLModel",
     "state": {
      "_dom_classes": [],
      "_model_module": "@jupyter-widgets/controls",
      "_model_module_version": "1.5.0",
      "_model_name": "HTMLModel",
      "_view_count": null,
      "_view_module": "@jupyter-widgets/controls",
      "_view_module_version": "1.5.0",
      "_view_name": "HTMLView",
      "description": "",
      "description_tooltip": null,
      "layout": "IPY_MODEL_4e5475a16ff44ac1b92147682b8ac94f",
      "placeholder": "​",
      "style": "IPY_MODEL_dbb646ca9b324b7487ae44dfac69073a",
      "value": "Map: 100%"
     }
    },
    "1c757a27cc1b45f99bc4731f8ae53898": {
     "model_module": "@jupyter-widgets/controls",
     "model_module_version": "1.5.0",
     "model_name": "DescriptionStyleModel",
     "state": {
      "_model_module": "@jupyter-widgets/controls",
      "_model_module_version": "1.5.0",
      "_model_name": "DescriptionStyleModel",
      "_view_count": null,
      "_view_module": "@jupyter-widgets/base",
      "_view_module_version": "1.2.0",
      "_view_name": "StyleView",
      "description_width": ""
     }
    },
    "27513d693774457aa8ae427c5723adc4": {
     "model_module": "@jupyter-widgets/controls",
     "model_module_version": "1.5.0",
     "model_name": "HTMLModel",
     "state": {
      "_dom_classes": [],
      "_model_module": "@jupyter-widgets/controls",
      "_model_module_version": "1.5.0",
      "_model_name": "HTMLModel",
      "_view_count": null,
      "_view_module": "@jupyter-widgets/controls",
      "_view_module_version": "1.5.0",
      "_view_name": "HTMLView",
      "description": "",
      "description_tooltip": null,
      "layout": "IPY_MODEL_2963fb13491c4b91abe29cf1f04aafc9",
      "placeholder": "​",
      "style": "IPY_MODEL_e882130aa176474885043ff2fe65ea81",
      "value": "tokenizer_config.json: 100%"
     }
    },
    "277901ad05ea4618a849ce0db080b8b3": {
     "model_module": "@jupyter-widgets/base",
     "model_module_version": "1.2.0",
     "model_name": "LayoutModel",
     "state": {
      "_model_module": "@jupyter-widgets/base",
      "_model_module_version": "1.2.0",
      "_model_name": "LayoutModel",
      "_view_count": null,
      "_view_module": "@jupyter-widgets/base",
      "_view_module_version": "1.2.0",
      "_view_name": "LayoutView",
      "align_content": null,
      "align_items": null,
      "align_self": null,
      "border": null,
      "bottom": null,
      "display": null,
      "flex": null,
      "flex_flow": null,
      "grid_area": null,
      "grid_auto_columns": null,
      "grid_auto_flow": null,
      "grid_auto_rows": null,
      "grid_column": null,
      "grid_gap": null,
      "grid_row": null,
      "grid_template_areas": null,
      "grid_template_columns": null,
      "grid_template_rows": null,
      "height": null,
      "justify_content": null,
      "justify_items": null,
      "left": null,
      "margin": null,
      "max_height": null,
      "max_width": null,
      "min_height": null,
      "min_width": null,
      "object_fit": null,
      "object_position": null,
      "order": null,
      "overflow": null,
      "overflow_x": null,
      "overflow_y": null,
      "padding": null,
      "right": null,
      "top": null,
      "visibility": null,
      "width": null
     }
    },
    "2963fb13491c4b91abe29cf1f04aafc9": {
     "model_module": "@jupyter-widgets/base",
     "model_module_version": "1.2.0",
     "model_name": "LayoutModel",
     "state": {
      "_model_module": "@jupyter-widgets/base",
      "_model_module_version": "1.2.0",
      "_model_name": "LayoutModel",
      "_view_count": null,
      "_view_module": "@jupyter-widgets/base",
      "_view_module_version": "1.2.0",
      "_view_name": "LayoutView",
      "align_content": null,
      "align_items": null,
      "align_self": null,
      "border": null,
      "bottom": null,
      "display": null,
      "flex": null,
      "flex_flow": null,
      "grid_area": null,
      "grid_auto_columns": null,
      "grid_auto_flow": null,
      "grid_auto_rows": null,
      "grid_column": null,
      "grid_gap": null,
      "grid_row": null,
      "grid_template_areas": null,
      "grid_template_columns": null,
      "grid_template_rows": null,
      "height": null,
      "justify_content": null,
      "justify_items": null,
      "left": null,
      "margin": null,
      "max_height": null,
      "max_width": null,
      "min_height": null,
      "min_width": null,
      "object_fit": null,
      "object_position": null,
      "order": null,
      "overflow": null,
      "overflow_x": null,
      "overflow_y": null,
      "padding": null,
      "right": null,
      "top": null,
      "visibility": null,
      "width": null
     }
    },
    "2967aada57304c49ab899941e14e5a2b": {
     "model_module": "@jupyter-widgets/base",
     "model_module_version": "1.2.0",
     "model_name": "LayoutModel",
     "state": {
      "_model_module": "@jupyter-widgets/base",
      "_model_module_version": "1.2.0",
      "_model_name": "LayoutModel",
      "_view_count": null,
      "_view_module": "@jupyter-widgets/base",
      "_view_module_version": "1.2.0",
      "_view_name": "LayoutView",
      "align_content": null,
      "align_items": null,
      "align_self": null,
      "border": null,
      "bottom": null,
      "display": null,
      "flex": null,
      "flex_flow": null,
      "grid_area": null,
      "grid_auto_columns": null,
      "grid_auto_flow": null,
      "grid_auto_rows": null,
      "grid_column": null,
      "grid_gap": null,
      "grid_row": null,
      "grid_template_areas": null,
      "grid_template_columns": null,
      "grid_template_rows": null,
      "height": null,
      "justify_content": null,
      "justify_items": null,
      "left": null,
      "margin": null,
      "max_height": null,
      "max_width": null,
      "min_height": null,
      "min_width": null,
      "object_fit": null,
      "object_position": null,
      "order": null,
      "overflow": null,
      "overflow_x": null,
      "overflow_y": null,
      "padding": null,
      "right": null,
      "top": null,
      "visibility": null,
      "width": null
     }
    },
    "29f4d39ea2564b7aaba18bf3ce2a2b8c": {
     "model_module": "@jupyter-widgets/controls",
     "model_module_version": "1.5.0",
     "model_name": "FloatProgressModel",
     "state": {
      "_dom_classes": [],
      "_model_module": "@jupyter-widgets/controls",
      "_model_module_version": "1.5.0",
      "_model_name": "FloatProgressModel",
      "_view_count": null,
      "_view_module": "@jupyter-widgets/controls",
      "_view_module_version": "1.5.0",
      "_view_name": "ProgressView",
      "bar_style": "success",
      "description": "",
      "description_tooltip": null,
      "layout": "IPY_MODEL_c6d3b67a8258426393d99ddaf38b63ac",
      "max": 147,
      "min": 0,
      "orientation": "horizontal",
      "style": "IPY_MODEL_393ac536333d434da124887139e65d43",
      "value": 147
     }
    },
    "29fe7c5081dc4369b24439e8aeddd165": {
     "model_module": "@jupyter-widgets/controls",
     "model_module_version": "1.5.0",
     "model_name": "HBoxModel",
     "state": {
      "_dom_classes": [],
      "_model_module": "@jupyter-widgets/controls",
      "_model_module_version": "1.5.0",
      "_model_name": "HBoxModel",
      "_view_count": null,
      "_view_module": "@jupyter-widgets/controls",
      "_view_module_version": "1.5.0",
      "_view_name": "HBoxView",
      "box_style": "",
      "children": [
       "IPY_MODEL_4c23329542bd479aba6c3508dfb36325",
       "IPY_MODEL_dc4dd0689ad44248bb2721167d409d86",
       "IPY_MODEL_4c7bf252c729438fa9602d772ccc81e3"
      ],
      "layout": "IPY_MODEL_0a6e5a6c0fc242c288ed2c46230fdeec"
     }
    },
    "2d5ccaa1bc844ddfb8544243cbd91f57": {
     "model_module": "@jupyter-widgets/controls",
     "model_module_version": "1.5.0",
     "model_name": "ProgressStyleModel",
     "state": {
      "_model_module": "@jupyter-widgets/controls",
      "_model_module_version": "1.5.0",
      "_model_name": "ProgressStyleModel",
      "_view_count": null,
      "_view_module": "@jupyter-widgets/base",
      "_view_module_version": "1.2.0",
      "_view_name": "StyleView",
      "bar_color": null,
      "description_width": ""
     }
    },
    "2ed6bc99b34e4c6f81ed56b9d8a0d388": {
     "model_module": "@jupyter-widgets/base",
     "model_module_version": "1.2.0",
     "model_name": "LayoutModel",
     "state": {
      "_model_module": "@jupyter-widgets/base",
      "_model_module_version": "1.2.0",
      "_model_name": "LayoutModel",
      "_view_count": null,
      "_view_module": "@jupyter-widgets/base",
      "_view_module_version": "1.2.0",
      "_view_name": "LayoutView",
      "align_content": null,
      "align_items": null,
      "align_self": null,
      "border": null,
      "bottom": null,
      "display": null,
      "flex": null,
      "flex_flow": null,
      "grid_area": null,
      "grid_auto_columns": null,
      "grid_auto_flow": null,
      "grid_auto_rows": null,
      "grid_column": null,
      "grid_gap": null,
      "grid_row": null,
      "grid_template_areas": null,
      "grid_template_columns": null,
      "grid_template_rows": null,
      "height": null,
      "justify_content": null,
      "justify_items": null,
      "left": null,
      "margin": null,
      "max_height": null,
      "max_width": null,
      "min_height": null,
      "min_width": null,
      "object_fit": null,
      "object_position": null,
      "order": null,
      "overflow": null,
      "overflow_x": null,
      "overflow_y": null,
      "padding": null,
      "right": null,
      "top": null,
      "visibility": null,
      "width": null
     }
    },
    "2f72c5bebb0c4e8fb81ea3f7cb90b876": {
     "model_module": "@jupyter-widgets/controls",
     "model_module_version": "1.5.0",
     "model_name": "HBoxModel",
     "state": {
      "_dom_classes": [],
      "_model_module": "@jupyter-widgets/controls",
      "_model_module_version": "1.5.0",
      "_model_name": "HBoxModel",
      "_view_count": null,
      "_view_module": "@jupyter-widgets/controls",
      "_view_module_version": "1.5.0",
      "_view_name": "HBoxView",
      "box_style": "",
      "children": [
       "IPY_MODEL_cec02ffd3b664572bab8319bc44e098b",
       "IPY_MODEL_fbff92dd6ce449398572df557d1b82aa",
       "IPY_MODEL_538d9e2b35d440dd9dd4c8cc23f1757e"
      ],
      "layout": "IPY_MODEL_ecb7b50f65d34ae7a37bb2c3334a0575"
     }
    },
    "2fbd51cfbd9547159c4c3c977e8a7fa0": {
     "model_module": "@jupyter-widgets/controls",
     "model_module_version": "1.5.0",
     "model_name": "DescriptionStyleModel",
     "state": {
      "_model_module": "@jupyter-widgets/controls",
      "_model_module_version": "1.5.0",
      "_model_name": "DescriptionStyleModel",
      "_view_count": null,
      "_view_module": "@jupyter-widgets/base",
      "_view_module_version": "1.2.0",
      "_view_name": "StyleView",
      "description_width": ""
     }
    },
    "3527c97ea1e8452794340648a0b4eccd": {
     "model_module": "@jupyter-widgets/controls",
     "model_module_version": "1.5.0",
     "model_name": "HTMLModel",
     "state": {
      "_dom_classes": [],
      "_model_module": "@jupyter-widgets/controls",
      "_model_module_version": "1.5.0",
      "_model_name": "HTMLModel",
      "_view_count": null,
      "_view_module": "@jupyter-widgets/controls",
      "_view_module_version": "1.5.0",
      "_view_name": "HTMLView",
      "description": "",
      "description_tooltip": null,
      "layout": "IPY_MODEL_a88c9348e4224c8ea5271f4043f84704",
      "placeholder": "​",
      "style": "IPY_MODEL_0b66ca60a9064cfcb10af1c2c2739eb2",
      "value": "tokenizer.json: 100%"
     }
    },
    "375a5d7e8d0944378fd92752e024b140": {
     "model_module": "@jupyter-widgets/controls",
     "model_module_version": "1.5.0",
     "model_name": "HTMLModel",
     "state": {
      "_dom_classes": [],
      "_model_module": "@jupyter-widgets/controls",
      "_model_module_version": "1.5.0",
      "_model_name": "HTMLModel",
      "_view_count": null,
      "_view_module": "@jupyter-widgets/controls",
      "_view_module_version": "1.5.0",
      "_view_name": "HTMLView",
      "description": "",
      "description_tooltip": null,
      "layout": "IPY_MODEL_d3a7dc54f74b49af9c9241636cfdac98",
      "placeholder": "​",
      "style": "IPY_MODEL_f49e28923b2e47fe82764af7a93cb534",
      "value": " 2.32k/2.32k [00:00&lt;00:00, 42.2kB/s]"
     }
    },
    "38e2f52ab06d4045bbb19a23b6b09054": {
     "model_module": "@jupyter-widgets/controls",
     "model_module_version": "1.5.0",
     "model_name": "ProgressStyleModel",
     "state": {
      "_model_module": "@jupyter-widgets/controls",
      "_model_module_version": "1.5.0",
      "_model_name": "ProgressStyleModel",
      "_view_count": null,
      "_view_module": "@jupyter-widgets/base",
      "_view_module_version": "1.2.0",
      "_view_name": "StyleView",
      "bar_color": null,
      "description_width": ""
     }
    },
    "393ac536333d434da124887139e65d43": {
     "model_module": "@jupyter-widgets/controls",
     "model_module_version": "1.5.0",
     "model_name": "ProgressStyleModel",
     "state": {
      "_model_module": "@jupyter-widgets/controls",
      "_model_module_version": "1.5.0",
      "_model_name": "ProgressStyleModel",
      "_view_count": null,
      "_view_module": "@jupyter-widgets/base",
      "_view_module_version": "1.2.0",
      "_view_name": "StyleView",
      "bar_color": null,
      "description_width": ""
     }
    },
    "412599cf652d4a58bd18394b1941d9e3": {
     "model_module": "@jupyter-widgets/controls",
     "model_module_version": "1.5.0",
     "model_name": "HTMLModel",
     "state": {
      "_dom_classes": [],
      "_model_module": "@jupyter-widgets/controls",
      "_model_module_version": "1.5.0",
      "_model_name": "HTMLModel",
      "_view_count": null,
      "_view_module": "@jupyter-widgets/controls",
      "_view_module_version": "1.5.0",
      "_view_name": "HTMLView",
      "description": "",
      "description_tooltip": null,
      "layout": "IPY_MODEL_8005820faf5b4285b7c56e8b3ffc76ac",
      "placeholder": "​",
      "style": "IPY_MODEL_b94b4bdc0f404d7084c0371b0944c7c1",
      "value": " 147/147 [00:00&lt;00:00, 3.57kB/s]"
     }
    },
    "438c1c3e5b77481f8405e0517e24b807": {
     "model_module": "@jupyter-widgets/controls",
     "model_module_version": "1.5.0",
     "model_name": "HTMLModel",
     "state": {
      "_dom_classes": [],
      "_model_module": "@jupyter-widgets/controls",
      "_model_module_version": "1.5.0",
      "_model_name": "HTMLModel",
      "_view_count": null,
      "_view_module": "@jupyter-widgets/controls",
      "_view_module_version": "1.5.0",
      "_view_name": "HTMLView",
      "description": "",
      "description_tooltip": null,
      "layout": "IPY_MODEL_aa8e610386724af88eebd51018739562",
      "placeholder": "​",
      "style": "IPY_MODEL_dbbc833284814042bc1e87a4f5bf2d33",
      "value": "generation_config.json: 100%"
     }
    },
    "43deeee4f54c44fd9c0d510fde1900b6": {
     "model_module": "@jupyter-widgets/base",
     "model_module_version": "1.2.0",
     "model_name": "LayoutModel",
     "state": {
      "_model_module": "@jupyter-widgets/base",
      "_model_module_version": "1.2.0",
      "_model_name": "LayoutModel",
      "_view_count": null,
      "_view_module": "@jupyter-widgets/base",
      "_view_module_version": "1.2.0",
      "_view_name": "LayoutView",
      "align_content": null,
      "align_items": null,
      "align_self": null,
      "border": null,
      "bottom": null,
      "display": null,
      "flex": null,
      "flex_flow": null,
      "grid_area": null,
      "grid_auto_columns": null,
      "grid_auto_flow": null,
      "grid_auto_rows": null,
      "grid_column": null,
      "grid_gap": null,
      "grid_row": null,
      "grid_template_areas": null,
      "grid_template_columns": null,
      "grid_template_rows": null,
      "height": null,
      "justify_content": null,
      "justify_items": null,
      "left": null,
      "margin": null,
      "max_height": null,
      "max_width": null,
      "min_height": null,
      "min_width": null,
      "object_fit": null,
      "object_position": null,
      "order": null,
      "overflow": null,
      "overflow_x": null,
      "overflow_y": null,
      "padding": null,
      "right": null,
      "top": null,
      "visibility": null,
      "width": null
     }
    },
    "4affc4802e284b189a7a86f5ce317722": {
     "model_module": "@jupyter-widgets/controls",
     "model_module_version": "1.5.0",
     "model_name": "ProgressStyleModel",
     "state": {
      "_model_module": "@jupyter-widgets/controls",
      "_model_module_version": "1.5.0",
      "_model_name": "ProgressStyleModel",
      "_view_count": null,
      "_view_module": "@jupyter-widgets/base",
      "_view_module_version": "1.2.0",
      "_view_name": "StyleView",
      "bar_color": null,
      "description_width": ""
     }
    },
    "4c23329542bd479aba6c3508dfb36325": {
     "model_module": "@jupyter-widgets/controls",
     "model_module_version": "1.5.0",
     "model_name": "HTMLModel",
     "state": {
      "_dom_classes": [],
      "_model_module": "@jupyter-widgets/controls",
      "_model_module_version": "1.5.0",
      "_model_name": "HTMLModel",
      "_view_count": null,
      "_view_module": "@jupyter-widgets/controls",
      "_view_module_version": "1.5.0",
      "_view_name": "HTMLView",
      "description": "",
      "description_tooltip": null,
      "layout": "IPY_MODEL_d95179eae54a439eadcb6e4bdf22c624",
      "placeholder": "​",
      "style": "IPY_MODEL_6ef048fd20a24933994661f57cf66241",
      "value": "spiece.model: 100%"
     }
    },
    "4c7bf252c729438fa9602d772ccc81e3": {
     "model_module": "@jupyter-widgets/controls",
     "model_module_version": "1.5.0",
     "model_name": "HTMLModel",
     "state": {
      "_dom_classes": [],
      "_model_module": "@jupyter-widgets/controls",
      "_model_module_version": "1.5.0",
      "_model_name": "HTMLModel",
      "_view_count": null,
      "_view_module": "@jupyter-widgets/controls",
      "_view_module_version": "1.5.0",
      "_view_name": "HTMLView",
      "description": "",
      "description_tooltip": null,
      "layout": "IPY_MODEL_c211343d9b724b98945799545040b293",
      "placeholder": "​",
      "style": "IPY_MODEL_4c7f956b48b640438978aa053af6a9f4",
      "value": " 792k/792k [00:00&lt;00:00, 4.83MB/s]"
     }
    },
    "4c7f956b48b640438978aa053af6a9f4": {
     "model_module": "@jupyter-widgets/controls",
     "model_module_version": "1.5.0",
     "model_name": "DescriptionStyleModel",
     "state": {
      "_model_module": "@jupyter-widgets/controls",
      "_model_module_version": "1.5.0",
      "_model_name": "DescriptionStyleModel",
      "_view_count": null,
      "_view_module": "@jupyter-widgets/base",
      "_view_module_version": "1.2.0",
      "_view_name": "StyleView",
      "description_width": ""
     }
    },
    "4e5475a16ff44ac1b92147682b8ac94f": {
     "model_module": "@jupyter-widgets/base",
     "model_module_version": "1.2.0",
     "model_name": "LayoutModel",
     "state": {
      "_model_module": "@jupyter-widgets/base",
      "_model_module_version": "1.2.0",
      "_model_name": "LayoutModel",
      "_view_count": null,
      "_view_module": "@jupyter-widgets/base",
      "_view_module_version": "1.2.0",
      "_view_name": "LayoutView",
      "align_content": null,
      "align_items": null,
      "align_self": null,
      "border": null,
      "bottom": null,
      "display": null,
      "flex": null,
      "flex_flow": null,
      "grid_area": null,
      "grid_auto_columns": null,
      "grid_auto_flow": null,
      "grid_auto_rows": null,
      "grid_column": null,
      "grid_gap": null,
      "grid_row": null,
      "grid_template_areas": null,
      "grid_template_columns": null,
      "grid_template_rows": null,
      "height": null,
      "justify_content": null,
      "justify_items": null,
      "left": null,
      "margin": null,
      "max_height": null,
      "max_width": null,
      "min_height": null,
      "min_width": null,
      "object_fit": null,
      "object_position": null,
      "order": null,
      "overflow": null,
      "overflow_x": null,
      "overflow_y": null,
      "padding": null,
      "right": null,
      "top": null,
      "visibility": null,
      "width": null
     }
    },
    "4fcfbba79c6d4842862a116856737f18": {
     "model_module": "@jupyter-widgets/controls",
     "model_module_version": "1.5.0",
     "model_name": "HTMLModel",
     "state": {
      "_dom_classes": [],
      "_model_module": "@jupyter-widgets/controls",
      "_model_module_version": "1.5.0",
      "_model_name": "HTMLModel",
      "_view_count": null,
      "_view_module": "@jupyter-widgets/controls",
      "_view_module_version": "1.5.0",
      "_view_name": "HTMLView",
      "description": "",
      "description_tooltip": null,
      "layout": "IPY_MODEL_7e237a9c6fae4a259f4fa51b9742560f",
      "placeholder": "​",
      "style": "IPY_MODEL_9bbcd26ec2b54bd680ab055bec067aeb",
      "value": " 1.21k/1.21k [00:00&lt;00:00, 18.7kB/s]"
     }
    },
    "52de53bf379a4f04b4f6f71278d5d946": {
     "model_module": "@jupyter-widgets/controls",
     "model_module_version": "1.5.0",
     "model_name": "FloatProgressModel",
     "state": {
      "_dom_classes": [],
      "_model_module": "@jupyter-widgets/controls",
      "_model_module_version": "1.5.0",
      "_model_name": "FloatProgressModel",
      "_view_count": null,
      "_view_module": "@jupyter-widgets/controls",
      "_view_module_version": "1.5.0",
      "_view_name": "ProgressView",
      "bar_style": "success",
      "description": "",
      "description_tooltip": null,
      "layout": "IPY_MODEL_8cb60d001a174d33972a081aecf8c0a1",
      "max": 1389353,
      "min": 0,
      "orientation": "horizontal",
      "style": "IPY_MODEL_38e2f52ab06d4045bbb19a23b6b09054",
      "value": 1389353
     }
    },
    "538d9e2b35d440dd9dd4c8cc23f1757e": {
     "model_module": "@jupyter-widgets/controls",
     "model_module_version": "1.5.0",
     "model_name": "HTMLModel",
     "state": {
      "_dom_classes": [],
      "_model_module": "@jupyter-widgets/controls",
      "_model_module_version": "1.5.0",
      "_model_name": "HTMLModel",
      "_view_count": null,
      "_view_module": "@jupyter-widgets/controls",
      "_view_module_version": "1.5.0",
      "_view_name": "HTMLView",
      "description": "",
      "description_tooltip": null,
      "layout": "IPY_MODEL_2ed6bc99b34e4c6f81ed56b9d8a0d388",
      "placeholder": "​",
      "style": "IPY_MODEL_1c757a27cc1b45f99bc4731f8ae53898",
      "value": " 400/400 [00:03&lt;00:00, 132.25 examples/s]"
     }
    },
    "54082d4addcc44dca52d739f3ed4a6bf": {
     "model_module": "@jupyter-widgets/base",
     "model_module_version": "1.2.0",
     "model_name": "LayoutModel",
     "state": {
      "_model_module": "@jupyter-widgets/base",
      "_model_module_version": "1.2.0",
      "_model_name": "LayoutModel",
      "_view_count": null,
      "_view_module": "@jupyter-widgets/base",
      "_view_module_version": "1.2.0",
      "_view_name": "LayoutView",
      "align_content": null,
      "align_items": null,
      "align_self": null,
      "border": null,
      "bottom": null,
      "display": null,
      "flex": null,
      "flex_flow": null,
      "grid_area": null,
      "grid_auto_columns": null,
      "grid_auto_flow": null,
      "grid_auto_rows": null,
      "grid_column": null,
      "grid_gap": null,
      "grid_row": null,
      "grid_template_areas": null,
      "grid_template_columns": null,
      "grid_template_rows": null,
      "height": null,
      "justify_content": null,
      "justify_items": null,
      "left": null,
      "margin": null,
      "max_height": null,
      "max_width": null,
      "min_height": null,
      "min_width": null,
      "object_fit": null,
      "object_position": null,
      "order": null,
      "overflow": null,
      "overflow_x": null,
      "overflow_y": null,
      "padding": null,
      "right": null,
      "top": null,
      "visibility": null,
      "width": null
     }
    },
    "5773f9db4dee4ca4aa611aaf95be53c2": {
     "model_module": "@jupyter-widgets/controls",
     "model_module_version": "1.5.0",
     "model_name": "HBoxModel",
     "state": {
      "_dom_classes": [],
      "_model_module": "@jupyter-widgets/controls",
      "_model_module_version": "1.5.0",
      "_model_name": "HBoxModel",
      "_view_count": null,
      "_view_module": "@jupyter-widgets/controls",
      "_view_module_version": "1.5.0",
      "_view_name": "HBoxView",
      "box_style": "",
      "children": [
       "IPY_MODEL_d8019749d0e240d4ba51c4ef35b2487d",
       "IPY_MODEL_eed75748e9734677b3362b04965166a1",
       "IPY_MODEL_4fcfbba79c6d4842862a116856737f18"
      ],
      "layout": "IPY_MODEL_b8d61b57c5174c51a27dda92f69b27e9"
     }
    },
    "5b51e33a2c5f4b92a0741a5881f0c5d4": {
     "model_module": "@jupyter-widgets/controls",
     "model_module_version": "1.5.0",
     "model_name": "HTMLModel",
     "state": {
      "_dom_classes": [],
      "_model_module": "@jupyter-widgets/controls",
      "_model_module_version": "1.5.0",
      "_model_name": "HTMLModel",
      "_view_count": null,
      "_view_module": "@jupyter-widgets/controls",
      "_view_module_version": "1.5.0",
      "_view_name": "HTMLView",
      "description": "",
      "description_tooltip": null,
      "layout": "IPY_MODEL_5d8fcbff133149cbbee27e033fe216c4",
      "placeholder": "​",
      "style": "IPY_MODEL_e90a52d52a9443f79abec02c07124ab9",
      "value": "model.safetensors: 100%"
     }
    },
    "5d8fcbff133149cbbee27e033fe216c4": {
     "model_module": "@jupyter-widgets/base",
     "model_module_version": "1.2.0",
     "model_name": "LayoutModel",
     "state": {
      "_model_module": "@jupyter-widgets/base",
      "_model_module_version": "1.2.0",
      "_model_name": "LayoutModel",
      "_view_count": null,
      "_view_module": "@jupyter-widgets/base",
      "_view_module_version": "1.2.0",
      "_view_name": "LayoutView",
      "align_content": null,
      "align_items": null,
      "align_self": null,
      "border": null,
      "bottom": null,
      "display": null,
      "flex": null,
      "flex_flow": null,
      "grid_area": null,
      "grid_auto_columns": null,
      "grid_auto_flow": null,
      "grid_auto_rows": null,
      "grid_column": null,
      "grid_gap": null,
      "grid_row": null,
      "grid_template_areas": null,
      "grid_template_columns": null,
      "grid_template_rows": null,
      "height": null,
      "justify_content": null,
      "justify_items": null,
      "left": null,
      "margin": null,
      "max_height": null,
      "max_width": null,
      "min_height": null,
      "min_width": null,
      "object_fit": null,
      "object_position": null,
      "order": null,
      "overflow": null,
      "overflow_x": null,
      "overflow_y": null,
      "padding": null,
      "right": null,
      "top": null,
      "visibility": null,
      "width": null
     }
    },
    "66661e83236b4c40a18136b7bfb18777": {
     "model_module": "@jupyter-widgets/controls",
     "model_module_version": "1.5.0",
     "model_name": "FloatProgressModel",
     "state": {
      "_dom_classes": [],
      "_model_module": "@jupyter-widgets/controls",
      "_model_module_version": "1.5.0",
      "_model_name": "FloatProgressModel",
      "_view_count": null,
      "_view_module": "@jupyter-widgets/controls",
      "_view_module_version": "1.5.0",
      "_view_name": "ProgressView",
      "bar_style": "success",
      "description": "",
      "description_tooltip": null,
      "layout": "IPY_MODEL_9778ed2ece014dcc862e5874cecaf987",
      "max": 242043056,
      "min": 0,
      "orientation": "horizontal",
      "style": "IPY_MODEL_4affc4802e284b189a7a86f5ce317722",
      "value": 242043056
     }
    },
    "6d0b8c53bc504d168a273a2a5eefb9ed": {
     "model_module": "@jupyter-widgets/controls",
     "model_module_version": "1.5.0",
     "model_name": "HTMLModel",
     "state": {
      "_dom_classes": [],
      "_model_module": "@jupyter-widgets/controls",
      "_model_module_version": "1.5.0",
      "_model_name": "HTMLModel",
      "_view_count": null,
      "_view_module": "@jupyter-widgets/controls",
      "_view_module_version": "1.5.0",
      "_view_name": "HTMLView",
      "description": "",
      "description_tooltip": null,
      "layout": "IPY_MODEL_835ea1c69ffb4906bccc681844d142f9",
      "placeholder": "​",
      "style": "IPY_MODEL_e395fa510aaf47b092b834e34a9c5d5b",
      "value": " 1.39M/1.39M [00:00&lt;00:00, 17.2MB/s]"
     }
    },
    "6ef048fd20a24933994661f57cf66241": {
     "model_module": "@jupyter-widgets/controls",
     "model_module_version": "1.5.0",
     "model_name": "DescriptionStyleModel",
     "state": {
      "_model_module": "@jupyter-widgets/controls",
      "_model_module_version": "1.5.0",
      "_model_name": "DescriptionStyleModel",
      "_view_count": null,
      "_view_module": "@jupyter-widgets/base",
      "_view_module_version": "1.2.0",
      "_view_name": "StyleView",
      "description_width": ""
     }
    },
    "7cba77ec115146ac98a5714a2a6fa08e": {
     "model_module": "@jupyter-widgets/base",
     "model_module_version": "1.2.0",
     "model_name": "LayoutModel",
     "state": {
      "_model_module": "@jupyter-widgets/base",
      "_model_module_version": "1.2.0",
      "_model_name": "LayoutModel",
      "_view_count": null,
      "_view_module": "@jupyter-widgets/base",
      "_view_module_version": "1.2.0",
      "_view_name": "LayoutView",
      "align_content": null,
      "align_items": null,
      "align_self": null,
      "border": null,
      "bottom": null,
      "display": null,
      "flex": null,
      "flex_flow": null,
      "grid_area": null,
      "grid_auto_columns": null,
      "grid_auto_flow": null,
      "grid_auto_rows": null,
      "grid_column": null,
      "grid_gap": null,
      "grid_row": null,
      "grid_template_areas": null,
      "grid_template_columns": null,
      "grid_template_rows": null,
      "height": null,
      "justify_content": null,
      "justify_items": null,
      "left": null,
      "margin": null,
      "max_height": null,
      "max_width": null,
      "min_height": null,
      "min_width": null,
      "object_fit": null,
      "object_position": null,
      "order": null,
      "overflow": null,
      "overflow_x": null,
      "overflow_y": null,
      "padding": null,
      "right": null,
      "top": null,
      "visibility": null,
      "width": null
     }
    },
    "7e237a9c6fae4a259f4fa51b9742560f": {
     "model_module": "@jupyter-widgets/base",
     "model_module_version": "1.2.0",
     "model_name": "LayoutModel",
     "state": {
      "_model_module": "@jupyter-widgets/base",
      "_model_module_version": "1.2.0",
      "_model_name": "LayoutModel",
      "_view_count": null,
      "_view_module": "@jupyter-widgets/base",
      "_view_module_version": "1.2.0",
      "_view_name": "LayoutView",
      "align_content": null,
      "align_items": null,
      "align_self": null,
      "border": null,
      "bottom": null,
      "display": null,
      "flex": null,
      "flex_flow": null,
      "grid_area": null,
      "grid_auto_columns": null,
      "grid_auto_flow": null,
      "grid_auto_rows": null,
      "grid_column": null,
      "grid_gap": null,
      "grid_row": null,
      "grid_template_areas": null,
      "grid_template_columns": null,
      "grid_template_rows": null,
      "height": null,
      "justify_content": null,
      "justify_items": null,
      "left": null,
      "margin": null,
      "max_height": null,
      "max_width": null,
      "min_height": null,
      "min_width": null,
      "object_fit": null,
      "object_position": null,
      "order": null,
      "overflow": null,
      "overflow_x": null,
      "overflow_y": null,
      "padding": null,
      "right": null,
      "top": null,
      "visibility": null,
      "width": null
     }
    },
    "8005820faf5b4285b7c56e8b3ffc76ac": {
     "model_module": "@jupyter-widgets/base",
     "model_module_version": "1.2.0",
     "model_name": "LayoutModel",
     "state": {
      "_model_module": "@jupyter-widgets/base",
      "_model_module_version": "1.2.0",
      "_model_name": "LayoutModel",
      "_view_count": null,
      "_view_module": "@jupyter-widgets/base",
      "_view_module_version": "1.2.0",
      "_view_name": "LayoutView",
      "align_content": null,
      "align_items": null,
      "align_self": null,
      "border": null,
      "bottom": null,
      "display": null,
      "flex": null,
      "flex_flow": null,
      "grid_area": null,
      "grid_auto_columns": null,
      "grid_auto_flow": null,
      "grid_auto_rows": null,
      "grid_column": null,
      "grid_gap": null,
      "grid_row": null,
      "grid_template_areas": null,
      "grid_template_columns": null,
      "grid_template_rows": null,
      "height": null,
      "justify_content": null,
      "justify_items": null,
      "left": null,
      "margin": null,
      "max_height": null,
      "max_width": null,
      "min_height": null,
      "min_width": null,
      "object_fit": null,
      "object_position": null,
      "order": null,
      "overflow": null,
      "overflow_x": null,
      "overflow_y": null,
      "padding": null,
      "right": null,
      "top": null,
      "visibility": null,
      "width": null
     }
    },
    "80ff15b8e08d4c45b78d15af2b9b5421": {
     "model_module": "@jupyter-widgets/controls",
     "model_module_version": "1.5.0",
     "model_name": "HBoxModel",
     "state": {
      "_dom_classes": [],
      "_model_module": "@jupyter-widgets/controls",
      "_model_module_version": "1.5.0",
      "_model_name": "HBoxModel",
      "_view_count": null,
      "_view_module": "@jupyter-widgets/controls",
      "_view_module_version": "1.5.0",
      "_view_name": "HBoxView",
      "box_style": "",
      "children": [
       "IPY_MODEL_5b51e33a2c5f4b92a0741a5881f0c5d4",
       "IPY_MODEL_66661e83236b4c40a18136b7bfb18777",
       "IPY_MODEL_def7180104d54f598bd5c88c0ec74042"
      ],
      "layout": "IPY_MODEL_9b33eacf3b7940d8ac1e5b87e71209be"
     }
    },
    "81ed8137b8534155a015c06d7e46cca5": {
     "model_module": "@jupyter-widgets/controls",
     "model_module_version": "1.5.0",
     "model_name": "ProgressStyleModel",
     "state": {
      "_model_module": "@jupyter-widgets/controls",
      "_model_module_version": "1.5.0",
      "_model_name": "ProgressStyleModel",
      "_view_count": null,
      "_view_module": "@jupyter-widgets/base",
      "_view_module_version": "1.2.0",
      "_view_name": "StyleView",
      "bar_color": null,
      "description_width": ""
     }
    },
    "821688a32c784c238f6c0cd607725901": {
     "model_module": "@jupyter-widgets/controls",
     "model_module_version": "1.5.0",
     "model_name": "HBoxModel",
     "state": {
      "_dom_classes": [],
      "_model_module": "@jupyter-widgets/controls",
      "_model_module_version": "1.5.0",
      "_model_name": "HBoxModel",
      "_view_count": null,
      "_view_module": "@jupyter-widgets/controls",
      "_view_module_version": "1.5.0",
      "_view_name": "HBoxView",
      "box_style": "",
      "children": [
       "IPY_MODEL_27513d693774457aa8ae427c5723adc4",
       "IPY_MODEL_d1285f657ddd4f49aef70f46526336eb",
       "IPY_MODEL_375a5d7e8d0944378fd92752e024b140"
      ],
      "layout": "IPY_MODEL_9caed342cd4c4d739e16f9dd31f73364"
     }
    },
    "835ea1c69ffb4906bccc681844d142f9": {
     "model_module": "@jupyter-widgets/base",
     "model_module_version": "1.2.0",
     "model_name": "LayoutModel",
     "state": {
      "_model_module": "@jupyter-widgets/base",
      "_model_module_version": "1.2.0",
      "_model_name": "LayoutModel",
      "_view_count": null,
      "_view_module": "@jupyter-widgets/base",
      "_view_module_version": "1.2.0",
      "_view_name": "LayoutView",
      "align_content": null,
      "align_items": null,
      "align_self": null,
      "border": null,
      "bottom": null,
      "display": null,
      "flex": null,
      "flex_flow": null,
      "grid_area": null,
      "grid_auto_columns": null,
      "grid_auto_flow": null,
      "grid_auto_rows": null,
      "grid_column": null,
      "grid_gap": null,
      "grid_row": null,
      "grid_template_areas": null,
      "grid_template_columns": null,
      "grid_template_rows": null,
      "height": null,
      "justify_content": null,
      "justify_items": null,
      "left": null,
      "margin": null,
      "max_height": null,
      "max_width": null,
      "min_height": null,
      "min_width": null,
      "object_fit": null,
      "object_position": null,
      "order": null,
      "overflow": null,
      "overflow_x": null,
      "overflow_y": null,
      "padding": null,
      "right": null,
      "top": null,
      "visibility": null,
      "width": null
     }
    },
    "8cb60d001a174d33972a081aecf8c0a1": {
     "model_module": "@jupyter-widgets/base",
     "model_module_version": "1.2.0",
     "model_name": "LayoutModel",
     "state": {
      "_model_module": "@jupyter-widgets/base",
      "_model_module_version": "1.2.0",
      "_model_name": "LayoutModel",
      "_view_count": null,
      "_view_module": "@jupyter-widgets/base",
      "_view_module_version": "1.2.0",
      "_view_name": "LayoutView",
      "align_content": null,
      "align_items": null,
      "align_self": null,
      "border": null,
      "bottom": null,
      "display": null,
      "flex": null,
      "flex_flow": null,
      "grid_area": null,
      "grid_auto_columns": null,
      "grid_auto_flow": null,
      "grid_auto_rows": null,
      "grid_column": null,
      "grid_gap": null,
      "grid_row": null,
      "grid_template_areas": null,
      "grid_template_columns": null,
      "grid_template_rows": null,
      "height": null,
      "justify_content": null,
      "justify_items": null,
      "left": null,
      "margin": null,
      "max_height": null,
      "max_width": null,
      "min_height": null,
      "min_width": null,
      "object_fit": null,
      "object_position": null,
      "order": null,
      "overflow": null,
      "overflow_x": null,
      "overflow_y": null,
      "padding": null,
      "right": null,
      "top": null,
      "visibility": null,
      "width": null
     }
    },
    "91f513c2ae704a0297e8a9d6347dfec8": {
     "model_module": "@jupyter-widgets/controls",
     "model_module_version": "1.5.0",
     "model_name": "HBoxModel",
     "state": {
      "_dom_classes": [],
      "_model_module": "@jupyter-widgets/controls",
      "_model_module_version": "1.5.0",
      "_model_name": "HBoxModel",
      "_view_count": null,
      "_view_module": "@jupyter-widgets/controls",
      "_view_module_version": "1.5.0",
      "_view_name": "HBoxView",
      "box_style": "",
      "children": [
       "IPY_MODEL_438c1c3e5b77481f8405e0517e24b807",
       "IPY_MODEL_29f4d39ea2564b7aaba18bf3ce2a2b8c",
       "IPY_MODEL_412599cf652d4a58bd18394b1941d9e3"
      ],
      "layout": "IPY_MODEL_da9a1ecbc90340c98ebef604e083db6c"
     }
    },
    "965d6d1a029c4dabae57f053e96dd663": {
     "model_module": "@jupyter-widgets/controls",
     "model_module_version": "1.5.0",
     "model_name": "ProgressStyleModel",
     "state": {
      "_model_module": "@jupyter-widgets/controls",
      "_model_module_version": "1.5.0",
      "_model_name": "ProgressStyleModel",
      "_view_count": null,
      "_view_module": "@jupyter-widgets/base",
      "_view_module_version": "1.2.0",
      "_view_name": "StyleView",
      "bar_color": null,
      "description_width": ""
     }
    },
    "9778ed2ece014dcc862e5874cecaf987": {
     "model_module": "@jupyter-widgets/base",
     "model_module_version": "1.2.0",
     "model_name": "LayoutModel",
     "state": {
      "_model_module": "@jupyter-widgets/base",
      "_model_module_version": "1.2.0",
      "_model_name": "LayoutModel",
      "_view_count": null,
      "_view_module": "@jupyter-widgets/base",
      "_view_module_version": "1.2.0",
      "_view_name": "LayoutView",
      "align_content": null,
      "align_items": null,
      "align_self": null,
      "border": null,
      "bottom": null,
      "display": null,
      "flex": null,
      "flex_flow": null,
      "grid_area": null,
      "grid_auto_columns": null,
      "grid_auto_flow": null,
      "grid_auto_rows": null,
      "grid_column": null,
      "grid_gap": null,
      "grid_row": null,
      "grid_template_areas": null,
      "grid_template_columns": null,
      "grid_template_rows": null,
      "height": null,
      "justify_content": null,
      "justify_items": null,
      "left": null,
      "margin": null,
      "max_height": null,
      "max_width": null,
      "min_height": null,
      "min_width": null,
      "object_fit": null,
      "object_position": null,
      "order": null,
      "overflow": null,
      "overflow_x": null,
      "overflow_y": null,
      "padding": null,
      "right": null,
      "top": null,
      "visibility": null,
      "width": null
     }
    },
    "9b33eacf3b7940d8ac1e5b87e71209be": {
     "model_module": "@jupyter-widgets/base",
     "model_module_version": "1.2.0",
     "model_name": "LayoutModel",
     "state": {
      "_model_module": "@jupyter-widgets/base",
      "_model_module_version": "1.2.0",
      "_model_name": "LayoutModel",
      "_view_count": null,
      "_view_module": "@jupyter-widgets/base",
      "_view_module_version": "1.2.0",
      "_view_name": "LayoutView",
      "align_content": null,
      "align_items": null,
      "align_self": null,
      "border": null,
      "bottom": null,
      "display": null,
      "flex": null,
      "flex_flow": null,
      "grid_area": null,
      "grid_auto_columns": null,
      "grid_auto_flow": null,
      "grid_auto_rows": null,
      "grid_column": null,
      "grid_gap": null,
      "grid_row": null,
      "grid_template_areas": null,
      "grid_template_columns": null,
      "grid_template_rows": null,
      "height": null,
      "justify_content": null,
      "justify_items": null,
      "left": null,
      "margin": null,
      "max_height": null,
      "max_width": null,
      "min_height": null,
      "min_width": null,
      "object_fit": null,
      "object_position": null,
      "order": null,
      "overflow": null,
      "overflow_x": null,
      "overflow_y": null,
      "padding": null,
      "right": null,
      "top": null,
      "visibility": null,
      "width": null
     }
    },
    "9bbcd26ec2b54bd680ab055bec067aeb": {
     "model_module": "@jupyter-widgets/controls",
     "model_module_version": "1.5.0",
     "model_name": "DescriptionStyleModel",
     "state": {
      "_model_module": "@jupyter-widgets/controls",
      "_model_module_version": "1.5.0",
      "_model_name": "DescriptionStyleModel",
      "_view_count": null,
      "_view_module": "@jupyter-widgets/base",
      "_view_module_version": "1.2.0",
      "_view_name": "StyleView",
      "description_width": ""
     }
    },
    "9caed342cd4c4d739e16f9dd31f73364": {
     "model_module": "@jupyter-widgets/base",
     "model_module_version": "1.2.0",
     "model_name": "LayoutModel",
     "state": {
      "_model_module": "@jupyter-widgets/base",
      "_model_module_version": "1.2.0",
      "_model_name": "LayoutModel",
      "_view_count": null,
      "_view_module": "@jupyter-widgets/base",
      "_view_module_version": "1.2.0",
      "_view_name": "LayoutView",
      "align_content": null,
      "align_items": null,
      "align_self": null,
      "border": null,
      "bottom": null,
      "display": null,
      "flex": null,
      "flex_flow": null,
      "grid_area": null,
      "grid_auto_columns": null,
      "grid_auto_flow": null,
      "grid_auto_rows": null,
      "grid_column": null,
      "grid_gap": null,
      "grid_row": null,
      "grid_template_areas": null,
      "grid_template_columns": null,
      "grid_template_rows": null,
      "height": null,
      "justify_content": null,
      "justify_items": null,
      "left": null,
      "margin": null,
      "max_height": null,
      "max_width": null,
      "min_height": null,
      "min_width": null,
      "object_fit": null,
      "object_position": null,
      "order": null,
      "overflow": null,
      "overflow_x": null,
      "overflow_y": null,
      "padding": null,
      "right": null,
      "top": null,
      "visibility": null,
      "width": null
     }
    },
    "a88c9348e4224c8ea5271f4043f84704": {
     "model_module": "@jupyter-widgets/base",
     "model_module_version": "1.2.0",
     "model_name": "LayoutModel",
     "state": {
      "_model_module": "@jupyter-widgets/base",
      "_model_module_version": "1.2.0",
      "_model_name": "LayoutModel",
      "_view_count": null,
      "_view_module": "@jupyter-widgets/base",
      "_view_module_version": "1.2.0",
      "_view_name": "LayoutView",
      "align_content": null,
      "align_items": null,
      "align_self": null,
      "border": null,
      "bottom": null,
      "display": null,
      "flex": null,
      "flex_flow": null,
      "grid_area": null,
      "grid_auto_columns": null,
      "grid_auto_flow": null,
      "grid_auto_rows": null,
      "grid_column": null,
      "grid_gap": null,
      "grid_row": null,
      "grid_template_areas": null,
      "grid_template_columns": null,
      "grid_template_rows": null,
      "height": null,
      "justify_content": null,
      "justify_items": null,
      "left": null,
      "margin": null,
      "max_height": null,
      "max_width": null,
      "min_height": null,
      "min_width": null,
      "object_fit": null,
      "object_position": null,
      "order": null,
      "overflow": null,
      "overflow_x": null,
      "overflow_y": null,
      "padding": null,
      "right": null,
      "top": null,
      "visibility": null,
      "width": null
     }
    },
    "aa8e610386724af88eebd51018739562": {
     "model_module": "@jupyter-widgets/base",
     "model_module_version": "1.2.0",
     "model_name": "LayoutModel",
     "state": {
      "_model_module": "@jupyter-widgets/base",
      "_model_module_version": "1.2.0",
      "_model_name": "LayoutModel",
      "_view_count": null,
      "_view_module": "@jupyter-widgets/base",
      "_view_module_version": "1.2.0",
      "_view_name": "LayoutView",
      "align_content": null,
      "align_items": null,
      "align_self": null,
      "border": null,
      "bottom": null,
      "display": null,
      "flex": null,
      "flex_flow": null,
      "grid_area": null,
      "grid_auto_columns": null,
      "grid_auto_flow": null,
      "grid_auto_rows": null,
      "grid_column": null,
      "grid_gap": null,
      "grid_row": null,
      "grid_template_areas": null,
      "grid_template_columns": null,
      "grid_template_rows": null,
      "height": null,
      "justify_content": null,
      "justify_items": null,
      "left": null,
      "margin": null,
      "max_height": null,
      "max_width": null,
      "min_height": null,
      "min_width": null,
      "object_fit": null,
      "object_position": null,
      "order": null,
      "overflow": null,
      "overflow_x": null,
      "overflow_y": null,
      "padding": null,
      "right": null,
      "top": null,
      "visibility": null,
      "width": null
     }
    },
    "b8d61b57c5174c51a27dda92f69b27e9": {
     "model_module": "@jupyter-widgets/base",
     "model_module_version": "1.2.0",
     "model_name": "LayoutModel",
     "state": {
      "_model_module": "@jupyter-widgets/base",
      "_model_module_version": "1.2.0",
      "_model_name": "LayoutModel",
      "_view_count": null,
      "_view_module": "@jupyter-widgets/base",
      "_view_module_version": "1.2.0",
      "_view_name": "LayoutView",
      "align_content": null,
      "align_items": null,
      "align_self": null,
      "border": null,
      "bottom": null,
      "display": null,
      "flex": null,
      "flex_flow": null,
      "grid_area": null,
      "grid_auto_columns": null,
      "grid_auto_flow": null,
      "grid_auto_rows": null,
      "grid_column": null,
      "grid_gap": null,
      "grid_row": null,
      "grid_template_areas": null,
      "grid_template_columns": null,
      "grid_template_rows": null,
      "height": null,
      "justify_content": null,
      "justify_items": null,
      "left": null,
      "margin": null,
      "max_height": null,
      "max_width": null,
      "min_height": null,
      "min_width": null,
      "object_fit": null,
      "object_position": null,
      "order": null,
      "overflow": null,
      "overflow_x": null,
      "overflow_y": null,
      "padding": null,
      "right": null,
      "top": null,
      "visibility": null,
      "width": null
     }
    },
    "b94b4bdc0f404d7084c0371b0944c7c1": {
     "model_module": "@jupyter-widgets/controls",
     "model_module_version": "1.5.0",
     "model_name": "DescriptionStyleModel",
     "state": {
      "_model_module": "@jupyter-widgets/controls",
      "_model_module_version": "1.5.0",
      "_model_name": "DescriptionStyleModel",
      "_view_count": null,
      "_view_module": "@jupyter-widgets/base",
      "_view_module_version": "1.2.0",
      "_view_name": "StyleView",
      "description_width": ""
     }
    },
    "c211343d9b724b98945799545040b293": {
     "model_module": "@jupyter-widgets/base",
     "model_module_version": "1.2.0",
     "model_name": "LayoutModel",
     "state": {
      "_model_module": "@jupyter-widgets/base",
      "_model_module_version": "1.2.0",
      "_model_name": "LayoutModel",
      "_view_count": null,
      "_view_module": "@jupyter-widgets/base",
      "_view_module_version": "1.2.0",
      "_view_name": "LayoutView",
      "align_content": null,
      "align_items": null,
      "align_self": null,
      "border": null,
      "bottom": null,
      "display": null,
      "flex": null,
      "flex_flow": null,
      "grid_area": null,
      "grid_auto_columns": null,
      "grid_auto_flow": null,
      "grid_auto_rows": null,
      "grid_column": null,
      "grid_gap": null,
      "grid_row": null,
      "grid_template_areas": null,
      "grid_template_columns": null,
      "grid_template_rows": null,
      "height": null,
      "justify_content": null,
      "justify_items": null,
      "left": null,
      "margin": null,
      "max_height": null,
      "max_width": null,
      "min_height": null,
      "min_width": null,
      "object_fit": null,
      "object_position": null,
      "order": null,
      "overflow": null,
      "overflow_x": null,
      "overflow_y": null,
      "padding": null,
      "right": null,
      "top": null,
      "visibility": null,
      "width": null
     }
    },
    "c641fd91b8ef4f618dd3fb760bc9a896": {
     "model_module": "@jupyter-widgets/controls",
     "model_module_version": "1.5.0",
     "model_name": "HBoxModel",
     "state": {
      "_dom_classes": [],
      "_model_module": "@jupyter-widgets/controls",
      "_model_module_version": "1.5.0",
      "_model_name": "HBoxModel",
      "_view_count": null,
      "_view_module": "@jupyter-widgets/controls",
      "_view_module_version": "1.5.0",
      "_view_name": "HBoxView",
      "box_style": "",
      "children": [
       "IPY_MODEL_3527c97ea1e8452794340648a0b4eccd",
       "IPY_MODEL_52de53bf379a4f04b4f6f71278d5d946",
       "IPY_MODEL_6d0b8c53bc504d168a273a2a5eefb9ed"
      ],
      "layout": "IPY_MODEL_43deeee4f54c44fd9c0d510fde1900b6"
     }
    },
    "c6d3b67a8258426393d99ddaf38b63ac": {
     "model_module": "@jupyter-widgets/base",
     "model_module_version": "1.2.0",
     "model_name": "LayoutModel",
     "state": {
      "_model_module": "@jupyter-widgets/base",
      "_model_module_version": "1.2.0",
      "_model_name": "LayoutModel",
      "_view_count": null,
      "_view_module": "@jupyter-widgets/base",
      "_view_module_version": "1.2.0",
      "_view_name": "LayoutView",
      "align_content": null,
      "align_items": null,
      "align_self": null,
      "border": null,
      "bottom": null,
      "display": null,
      "flex": null,
      "flex_flow": null,
      "grid_area": null,
      "grid_auto_columns": null,
      "grid_auto_flow": null,
      "grid_auto_rows": null,
      "grid_column": null,
      "grid_gap": null,
      "grid_row": null,
      "grid_template_areas": null,
      "grid_template_columns": null,
      "grid_template_rows": null,
      "height": null,
      "justify_content": null,
      "justify_items": null,
      "left": null,
      "margin": null,
      "max_height": null,
      "max_width": null,
      "min_height": null,
      "min_width": null,
      "object_fit": null,
      "object_position": null,
      "order": null,
      "overflow": null,
      "overflow_x": null,
      "overflow_y": null,
      "padding": null,
      "right": null,
      "top": null,
      "visibility": null,
      "width": null
     }
    },
    "cec02ffd3b664572bab8319bc44e098b": {
     "model_module": "@jupyter-widgets/controls",
     "model_module_version": "1.5.0",
     "model_name": "HTMLModel",
     "state": {
      "_dom_classes": [],
      "_model_module": "@jupyter-widgets/controls",
      "_model_module_version": "1.5.0",
      "_model_name": "HTMLModel",
      "_view_count": null,
      "_view_module": "@jupyter-widgets/controls",
      "_view_module_version": "1.5.0",
      "_view_name": "HTMLView",
      "description": "",
      "description_tooltip": null,
      "layout": "IPY_MODEL_ee3fea8041744a53ab3d04a5f7dd3799",
      "placeholder": "​",
      "style": "IPY_MODEL_d1eb9182a0f04b65b8bf95eaa609940d",
      "value": "Map: 100%"
     }
    },
    "cff825a7e9614712a11150ff2d22fce2": {
     "model_module": "@jupyter-widgets/controls",
     "model_module_version": "1.5.0",
     "model_name": "ProgressStyleModel",
     "state": {
      "_model_module": "@jupyter-widgets/controls",
      "_model_module_version": "1.5.0",
      "_model_name": "ProgressStyleModel",
      "_view_count": null,
      "_view_module": "@jupyter-widgets/base",
      "_view_module_version": "1.2.0",
      "_view_name": "StyleView",
      "bar_color": null,
      "description_width": ""
     }
    },
    "d1285f657ddd4f49aef70f46526336eb": {
     "model_module": "@jupyter-widgets/controls",
     "model_module_version": "1.5.0",
     "model_name": "FloatProgressModel",
     "state": {
      "_dom_classes": [],
      "_model_module": "@jupyter-widgets/controls",
      "_model_module_version": "1.5.0",
      "_model_name": "FloatProgressModel",
      "_view_count": null,
      "_view_module": "@jupyter-widgets/controls",
      "_view_module_version": "1.5.0",
      "_view_name": "ProgressView",
      "bar_style": "success",
      "description": "",
      "description_tooltip": null,
      "layout": "IPY_MODEL_2967aada57304c49ab899941e14e5a2b",
      "max": 2324,
      "min": 0,
      "orientation": "horizontal",
      "style": "IPY_MODEL_2d5ccaa1bc844ddfb8544243cbd91f57",
      "value": 2324
     }
    },
    "d1eb9182a0f04b65b8bf95eaa609940d": {
     "model_module": "@jupyter-widgets/controls",
     "model_module_version": "1.5.0",
     "model_name": "DescriptionStyleModel",
     "state": {
      "_model_module": "@jupyter-widgets/controls",
      "_model_module_version": "1.5.0",
      "_model_name": "DescriptionStyleModel",
      "_view_count": null,
      "_view_module": "@jupyter-widgets/base",
      "_view_module_version": "1.2.0",
      "_view_name": "StyleView",
      "description_width": ""
     }
    },
    "d3a7dc54f74b49af9c9241636cfdac98": {
     "model_module": "@jupyter-widgets/base",
     "model_module_version": "1.2.0",
     "model_name": "LayoutModel",
     "state": {
      "_model_module": "@jupyter-widgets/base",
      "_model_module_version": "1.2.0",
      "_model_name": "LayoutModel",
      "_view_count": null,
      "_view_module": "@jupyter-widgets/base",
      "_view_module_version": "1.2.0",
      "_view_name": "LayoutView",
      "align_content": null,
      "align_items": null,
      "align_self": null,
      "border": null,
      "bottom": null,
      "display": null,
      "flex": null,
      "flex_flow": null,
      "grid_area": null,
      "grid_auto_columns": null,
      "grid_auto_flow": null,
      "grid_auto_rows": null,
      "grid_column": null,
      "grid_gap": null,
      "grid_row": null,
      "grid_template_areas": null,
      "grid_template_columns": null,
      "grid_template_rows": null,
      "height": null,
      "justify_content": null,
      "justify_items": null,
      "left": null,
      "margin": null,
      "max_height": null,
      "max_width": null,
      "min_height": null,
      "min_width": null,
      "object_fit": null,
      "object_position": null,
      "order": null,
      "overflow": null,
      "overflow_x": null,
      "overflow_y": null,
      "padding": null,
      "right": null,
      "top": null,
      "visibility": null,
      "width": null
     }
    },
    "d3ad13622aa7468eacd0f763406abc1c": {
     "model_module": "@jupyter-widgets/controls",
     "model_module_version": "1.5.0",
     "model_name": "ProgressStyleModel",
     "state": {
      "_model_module": "@jupyter-widgets/controls",
      "_model_module_version": "1.5.0",
      "_model_name": "ProgressStyleModel",
      "_view_count": null,
      "_view_module": "@jupyter-widgets/base",
      "_view_module_version": "1.2.0",
      "_view_name": "StyleView",
      "bar_color": null,
      "description_width": ""
     }
    },
    "d488eb83b3eb4f2a8ffa10e9aee52f52": {
     "model_module": "@jupyter-widgets/base",
     "model_module_version": "1.2.0",
     "model_name": "LayoutModel",
     "state": {
      "_model_module": "@jupyter-widgets/base",
      "_model_module_version": "1.2.0",
      "_model_name": "LayoutModel",
      "_view_count": null,
      "_view_module": "@jupyter-widgets/base",
      "_view_module_version": "1.2.0",
      "_view_name": "LayoutView",
      "align_content": null,
      "align_items": null,
      "align_self": null,
      "border": null,
      "bottom": null,
      "display": null,
      "flex": null,
      "flex_flow": null,
      "grid_area": null,
      "grid_auto_columns": null,
      "grid_auto_flow": null,
      "grid_auto_rows": null,
      "grid_column": null,
      "grid_gap": null,
      "grid_row": null,
      "grid_template_areas": null,
      "grid_template_columns": null,
      "grid_template_rows": null,
      "height": null,
      "justify_content": null,
      "justify_items": null,
      "left": null,
      "margin": null,
      "max_height": null,
      "max_width": null,
      "min_height": null,
      "min_width": null,
      "object_fit": null,
      "object_position": null,
      "order": null,
      "overflow": null,
      "overflow_x": null,
      "overflow_y": null,
      "padding": null,
      "right": null,
      "top": null,
      "visibility": null,
      "width": null
     }
    },
    "d619878c677340d0b580d26aba0d31c6": {
     "model_module": "@jupyter-widgets/base",
     "model_module_version": "1.2.0",
     "model_name": "LayoutModel",
     "state": {
      "_model_module": "@jupyter-widgets/base",
      "_model_module_version": "1.2.0",
      "_model_name": "LayoutModel",
      "_view_count": null,
      "_view_module": "@jupyter-widgets/base",
      "_view_module_version": "1.2.0",
      "_view_name": "LayoutView",
      "align_content": null,
      "align_items": null,
      "align_self": null,
      "border": null,
      "bottom": null,
      "display": null,
      "flex": null,
      "flex_flow": null,
      "grid_area": null,
      "grid_auto_columns": null,
      "grid_auto_flow": null,
      "grid_auto_rows": null,
      "grid_column": null,
      "grid_gap": null,
      "grid_row": null,
      "grid_template_areas": null,
      "grid_template_columns": null,
      "grid_template_rows": null,
      "height": null,
      "justify_content": null,
      "justify_items": null,
      "left": null,
      "margin": null,
      "max_height": null,
      "max_width": null,
      "min_height": null,
      "min_width": null,
      "object_fit": null,
      "object_position": null,
      "order": null,
      "overflow": null,
      "overflow_x": null,
      "overflow_y": null,
      "padding": null,
      "right": null,
      "top": null,
      "visibility": null,
      "width": null
     }
    },
    "d8019749d0e240d4ba51c4ef35b2487d": {
     "model_module": "@jupyter-widgets/controls",
     "model_module_version": "1.5.0",
     "model_name": "HTMLModel",
     "state": {
      "_dom_classes": [],
      "_model_module": "@jupyter-widgets/controls",
      "_model_module_version": "1.5.0",
      "_model_name": "HTMLModel",
      "_view_count": null,
      "_view_module": "@jupyter-widgets/controls",
      "_view_module_version": "1.5.0",
      "_view_name": "HTMLView",
      "description": "",
      "description_tooltip": null,
      "layout": "IPY_MODEL_06a9c5ea114c48faac3c876e28716e41",
      "placeholder": "​",
      "style": "IPY_MODEL_1b1448bc177c44d190143d7daeefcc31",
      "value": "config.json: 100%"
     }
    },
    "d95179eae54a439eadcb6e4bdf22c624": {
     "model_module": "@jupyter-widgets/base",
     "model_module_version": "1.2.0",
     "model_name": "LayoutModel",
     "state": {
      "_model_module": "@jupyter-widgets/base",
      "_model_module_version": "1.2.0",
      "_model_name": "LayoutModel",
      "_view_count": null,
      "_view_module": "@jupyter-widgets/base",
      "_view_module_version": "1.2.0",
      "_view_name": "LayoutView",
      "align_content": null,
      "align_items": null,
      "align_self": null,
      "border": null,
      "bottom": null,
      "display": null,
      "flex": null,
      "flex_flow": null,
      "grid_area": null,
      "grid_auto_columns": null,
      "grid_auto_flow": null,
      "grid_auto_rows": null,
      "grid_column": null,
      "grid_gap": null,
      "grid_row": null,
      "grid_template_areas": null,
      "grid_template_columns": null,
      "grid_template_rows": null,
      "height": null,
      "justify_content": null,
      "justify_items": null,
      "left": null,
      "margin": null,
      "max_height": null,
      "max_width": null,
      "min_height": null,
      "min_width": null,
      "object_fit": null,
      "object_position": null,
      "order": null,
      "overflow": null,
      "overflow_x": null,
      "overflow_y": null,
      "padding": null,
      "right": null,
      "top": null,
      "visibility": null,
      "width": null
     }
    },
    "da9a1ecbc90340c98ebef604e083db6c": {
     "model_module": "@jupyter-widgets/base",
     "model_module_version": "1.2.0",
     "model_name": "LayoutModel",
     "state": {
      "_model_module": "@jupyter-widgets/base",
      "_model_module_version": "1.2.0",
      "_model_name": "LayoutModel",
      "_view_count": null,
      "_view_module": "@jupyter-widgets/base",
      "_view_module_version": "1.2.0",
      "_view_name": "LayoutView",
      "align_content": null,
      "align_items": null,
      "align_self": null,
      "border": null,
      "bottom": null,
      "display": null,
      "flex": null,
      "flex_flow": null,
      "grid_area": null,
      "grid_auto_columns": null,
      "grid_auto_flow": null,
      "grid_auto_rows": null,
      "grid_column": null,
      "grid_gap": null,
      "grid_row": null,
      "grid_template_areas": null,
      "grid_template_columns": null,
      "grid_template_rows": null,
      "height": null,
      "justify_content": null,
      "justify_items": null,
      "left": null,
      "margin": null,
      "max_height": null,
      "max_width": null,
      "min_height": null,
      "min_width": null,
      "object_fit": null,
      "object_position": null,
      "order": null,
      "overflow": null,
      "overflow_x": null,
      "overflow_y": null,
      "padding": null,
      "right": null,
      "top": null,
      "visibility": null,
      "width": null
     }
    },
    "dbb646ca9b324b7487ae44dfac69073a": {
     "model_module": "@jupyter-widgets/controls",
     "model_module_version": "1.5.0",
     "model_name": "DescriptionStyleModel",
     "state": {
      "_model_module": "@jupyter-widgets/controls",
      "_model_module_version": "1.5.0",
      "_model_name": "DescriptionStyleModel",
      "_view_count": null,
      "_view_module": "@jupyter-widgets/base",
      "_view_module_version": "1.2.0",
      "_view_name": "StyleView",
      "description_width": ""
     }
    },
    "dbbc833284814042bc1e87a4f5bf2d33": {
     "model_module": "@jupyter-widgets/controls",
     "model_module_version": "1.5.0",
     "model_name": "DescriptionStyleModel",
     "state": {
      "_model_module": "@jupyter-widgets/controls",
      "_model_module_version": "1.5.0",
      "_model_name": "DescriptionStyleModel",
      "_view_count": null,
      "_view_module": "@jupyter-widgets/base",
      "_view_module_version": "1.2.0",
      "_view_name": "StyleView",
      "description_width": ""
     }
    },
    "dc4dd0689ad44248bb2721167d409d86": {
     "model_module": "@jupyter-widgets/controls",
     "model_module_version": "1.5.0",
     "model_name": "FloatProgressModel",
     "state": {
      "_dom_classes": [],
      "_model_module": "@jupyter-widgets/controls",
      "_model_module_version": "1.5.0",
      "_model_name": "FloatProgressModel",
      "_view_count": null,
      "_view_module": "@jupyter-widgets/controls",
      "_view_module_version": "1.5.0",
      "_view_name": "ProgressView",
      "bar_style": "success",
      "description": "",
      "description_tooltip": null,
      "layout": "IPY_MODEL_277901ad05ea4618a849ce0db080b8b3",
      "max": 791656,
      "min": 0,
      "orientation": "horizontal",
      "style": "IPY_MODEL_965d6d1a029c4dabae57f053e96dd663",
      "value": 791656
     }
    },
    "de6c14097d574631b2078faa08846ffc": {
     "model_module": "@jupyter-widgets/controls",
     "model_module_version": "1.5.0",
     "model_name": "DescriptionStyleModel",
     "state": {
      "_model_module": "@jupyter-widgets/controls",
      "_model_module_version": "1.5.0",
      "_model_name": "DescriptionStyleModel",
      "_view_count": null,
      "_view_module": "@jupyter-widgets/base",
      "_view_module_version": "1.2.0",
      "_view_name": "StyleView",
      "description_width": ""
     }
    },
    "def7180104d54f598bd5c88c0ec74042": {
     "model_module": "@jupyter-widgets/controls",
     "model_module_version": "1.5.0",
     "model_name": "HTMLModel",
     "state": {
      "_dom_classes": [],
      "_model_module": "@jupyter-widgets/controls",
      "_model_module_version": "1.5.0",
      "_model_name": "HTMLModel",
      "_view_count": null,
      "_view_module": "@jupyter-widgets/controls",
      "_view_module_version": "1.5.0",
      "_view_name": "HTMLView",
      "description": "",
      "description_tooltip": null,
      "layout": "IPY_MODEL_d619878c677340d0b580d26aba0d31c6",
      "placeholder": "​",
      "style": "IPY_MODEL_de6c14097d574631b2078faa08846ffc",
      "value": " 242M/242M [00:06&lt;00:00, 55.9MB/s]"
     }
    },
    "e172b9ebd322400d95241fdd64b7ab43": {
     "model_module": "@jupyter-widgets/controls",
     "model_module_version": "1.5.0",
     "model_name": "HTMLModel",
     "state": {
      "_dom_classes": [],
      "_model_module": "@jupyter-widgets/controls",
      "_model_module_version": "1.5.0",
      "_model_name": "HTMLModel",
      "_view_count": null,
      "_view_module": "@jupyter-widgets/controls",
      "_view_module_version": "1.5.0",
      "_view_name": "HTMLView",
      "description": "",
      "description_tooltip": null,
      "layout": "IPY_MODEL_d488eb83b3eb4f2a8ffa10e9aee52f52",
      "placeholder": "​",
      "style": "IPY_MODEL_2fbd51cfbd9547159c4c3c977e8a7fa0",
      "value": " 100/100 [00:00&lt;00:00, 204.92 examples/s]"
     }
    },
    "e395fa510aaf47b092b834e34a9c5d5b": {
     "model_module": "@jupyter-widgets/controls",
     "model_module_version": "1.5.0",
     "model_name": "DescriptionStyleModel",
     "state": {
      "_model_module": "@jupyter-widgets/controls",
      "_model_module_version": "1.5.0",
      "_model_name": "DescriptionStyleModel",
      "_view_count": null,
      "_view_module": "@jupyter-widgets/base",
      "_view_module_version": "1.2.0",
      "_view_name": "StyleView",
      "description_width": ""
     }
    },
    "e7f5c74802bf4b5a9455d525544aece8": {
     "model_module": "@jupyter-widgets/controls",
     "model_module_version": "1.5.0",
     "model_name": "HBoxModel",
     "state": {
      "_dom_classes": [],
      "_model_module": "@jupyter-widgets/controls",
      "_model_module_version": "1.5.0",
      "_model_name": "HBoxModel",
      "_view_count": null,
      "_view_module": "@jupyter-widgets/controls",
      "_view_module_version": "1.5.0",
      "_view_name": "HBoxView",
      "box_style": "",
      "children": [
       "IPY_MODEL_1b7ad0c7397b4084b9956844b2df8c45",
       "IPY_MODEL_142621ea85fd41f6938857126965fd58",
       "IPY_MODEL_e172b9ebd322400d95241fdd64b7ab43"
      ],
      "layout": "IPY_MODEL_54082d4addcc44dca52d739f3ed4a6bf"
     }
    },
    "e882130aa176474885043ff2fe65ea81": {
     "model_module": "@jupyter-widgets/controls",
     "model_module_version": "1.5.0",
     "model_name": "DescriptionStyleModel",
     "state": {
      "_model_module": "@jupyter-widgets/controls",
      "_model_module_version": "1.5.0",
      "_model_name": "DescriptionStyleModel",
      "_view_count": null,
      "_view_module": "@jupyter-widgets/base",
      "_view_module_version": "1.2.0",
      "_view_name": "StyleView",
      "description_width": ""
     }
    },
    "e90a52d52a9443f79abec02c07124ab9": {
     "model_module": "@jupyter-widgets/controls",
     "model_module_version": "1.5.0",
     "model_name": "DescriptionStyleModel",
     "state": {
      "_model_module": "@jupyter-widgets/controls",
      "_model_module_version": "1.5.0",
      "_model_name": "DescriptionStyleModel",
      "_view_count": null,
      "_view_module": "@jupyter-widgets/base",
      "_view_module_version": "1.2.0",
      "_view_name": "StyleView",
      "description_width": ""
     }
    },
    "ecb7b50f65d34ae7a37bb2c3334a0575": {
     "model_module": "@jupyter-widgets/base",
     "model_module_version": "1.2.0",
     "model_name": "LayoutModel",
     "state": {
      "_model_module": "@jupyter-widgets/base",
      "_model_module_version": "1.2.0",
      "_model_name": "LayoutModel",
      "_view_count": null,
      "_view_module": "@jupyter-widgets/base",
      "_view_module_version": "1.2.0",
      "_view_name": "LayoutView",
      "align_content": null,
      "align_items": null,
      "align_self": null,
      "border": null,
      "bottom": null,
      "display": null,
      "flex": null,
      "flex_flow": null,
      "grid_area": null,
      "grid_auto_columns": null,
      "grid_auto_flow": null,
      "grid_auto_rows": null,
      "grid_column": null,
      "grid_gap": null,
      "grid_row": null,
      "grid_template_areas": null,
      "grid_template_columns": null,
      "grid_template_rows": null,
      "height": null,
      "justify_content": null,
      "justify_items": null,
      "left": null,
      "margin": null,
      "max_height": null,
      "max_width": null,
      "min_height": null,
      "min_width": null,
      "object_fit": null,
      "object_position": null,
      "order": null,
      "overflow": null,
      "overflow_x": null,
      "overflow_y": null,
      "padding": null,
      "right": null,
      "top": null,
      "visibility": null,
      "width": null
     }
    },
    "ee3fea8041744a53ab3d04a5f7dd3799": {
     "model_module": "@jupyter-widgets/base",
     "model_module_version": "1.2.0",
     "model_name": "LayoutModel",
     "state": {
      "_model_module": "@jupyter-widgets/base",
      "_model_module_version": "1.2.0",
      "_model_name": "LayoutModel",
      "_view_count": null,
      "_view_module": "@jupyter-widgets/base",
      "_view_module_version": "1.2.0",
      "_view_name": "LayoutView",
      "align_content": null,
      "align_items": null,
      "align_self": null,
      "border": null,
      "bottom": null,
      "display": null,
      "flex": null,
      "flex_flow": null,
      "grid_area": null,
      "grid_auto_columns": null,
      "grid_auto_flow": null,
      "grid_auto_rows": null,
      "grid_column": null,
      "grid_gap": null,
      "grid_row": null,
      "grid_template_areas": null,
      "grid_template_columns": null,
      "grid_template_rows": null,
      "height": null,
      "justify_content": null,
      "justify_items": null,
      "left": null,
      "margin": null,
      "max_height": null,
      "max_width": null,
      "min_height": null,
      "min_width": null,
      "object_fit": null,
      "object_position": null,
      "order": null,
      "overflow": null,
      "overflow_x": null,
      "overflow_y": null,
      "padding": null,
      "right": null,
      "top": null,
      "visibility": null,
      "width": null
     }
    },
    "eed75748e9734677b3362b04965166a1": {
     "model_module": "@jupyter-widgets/controls",
     "model_module_version": "1.5.0",
     "model_name": "FloatProgressModel",
     "state": {
      "_dom_classes": [],
      "_model_module": "@jupyter-widgets/controls",
      "_model_module_version": "1.5.0",
      "_model_name": "FloatProgressModel",
      "_view_count": null,
      "_view_module": "@jupyter-widgets/controls",
      "_view_module_version": "1.5.0",
      "_view_name": "ProgressView",
      "bar_style": "success",
      "description": "",
      "description_tooltip": null,
      "layout": "IPY_MODEL_1646c2a2210240d7bd40c854fe514050",
      "max": 1206,
      "min": 0,
      "orientation": "horizontal",
      "style": "IPY_MODEL_d3ad13622aa7468eacd0f763406abc1c",
      "value": 1206
     }
    },
    "f49e28923b2e47fe82764af7a93cb534": {
     "model_module": "@jupyter-widgets/controls",
     "model_module_version": "1.5.0",
     "model_name": "DescriptionStyleModel",
     "state": {
      "_model_module": "@jupyter-widgets/controls",
      "_model_module_version": "1.5.0",
      "_model_name": "DescriptionStyleModel",
      "_view_count": null,
      "_view_module": "@jupyter-widgets/base",
      "_view_module_version": "1.2.0",
      "_view_name": "StyleView",
      "description_width": ""
     }
    },
    "fbff92dd6ce449398572df557d1b82aa": {
     "model_module": "@jupyter-widgets/controls",
     "model_module_version": "1.5.0",
     "model_name": "FloatProgressModel",
     "state": {
      "_dom_classes": [],
      "_model_module": "@jupyter-widgets/controls",
      "_model_module_version": "1.5.0",
      "_model_name": "FloatProgressModel",
      "_view_count": null,
      "_view_module": "@jupyter-widgets/controls",
      "_view_module_version": "1.5.0",
      "_view_name": "ProgressView",
      "bar_style": "success",
      "description": "",
      "description_tooltip": null,
      "layout": "IPY_MODEL_7cba77ec115146ac98a5714a2a6fa08e",
      "max": 400,
      "min": 0,
      "orientation": "horizontal",
      "style": "IPY_MODEL_cff825a7e9614712a11150ff2d22fce2",
      "value": 400
     }
    }
   }
  }
 },
 "nbformat": 4,
 "nbformat_minor": 0
}
